{
 "cells": [
  {
   "cell_type": "markdown",
   "id": "2817da4d",
   "metadata": {
    "ExecuteTime": {
     "end_time": "2022-12-31T15:59:22.244333Z",
     "start_time": "2022-12-31T15:59:22.117439Z"
    },
    "cell_style": "split"
   },
   "source": [
    "![](Pictures/Start_notebook.png)"
   ]
  },
  {
   "cell_type": "markdown",
   "id": "eca4fb08",
   "metadata": {
    "cell_style": "split"
   },
   "source": [
    "<b>  </b>  \n",
    "<b>  </b>  \n",
    "Ноутбук от 23.12.22 \n",
    "<b>  </b>  \n",
    "<b>  </b>  \n",
    "<b>  </b>  \n",
    "<b>  </b>  \n",
    "<b>  </b>  \n",
    "<b>  </b>  \n",
    "<b>  </b>   \n",
    "_финальная работа \"Data Science\"_  \n",
    "_специальность: Data Analist_  \n",
    "\n",
    "Выполнено:  \n",
    "Аргентов Сергей, г.Липецк  \n",
    "https://argentov.pro\n",
    "<b>  </b>  \n",
    "<b>  </b>  "
   ]
  },
  {
   "cell_type": "markdown",
   "id": "0851ee33",
   "metadata": {
    "toc": true
   },
   "source": [
    "<h1>СОДЕРЖАНИЕ<span class=\"tocSkip\"></span></h1>\n",
    "<div class=\"toc\"><ul class=\"toc-item\"><li><span><a href=\"#1.-Загрузка-библиотек-и-написание-вспомогательных-функций\" data-toc-modified-id=\"1.-Загрузка-библиотек-и-написание-вспомогательных-функций-1\">1. Загрузка библиотек и написание вспомогательных функций</a></span></li><li><span><a href=\"#2.-Знакомство-с-данными-(Data-Uderstanding)\" data-toc-modified-id=\"2.-Знакомство-с-данными-(Data-Uderstanding)-2\">2. Знакомство с данными (Data Uderstanding)</a></span><ul class=\"toc-item\"><li><span><a href=\"#2.1.-Описание-атрибутов-исходных-Датасетов\" data-toc-modified-id=\"2.1.-Описание-атрибутов-исходных-Датасетов-2.1\">2.1. Описание атрибутов исходных Датасетов</a></span></li><li><span><a href=\"#2.2.-Заданные-бизнес-связи-между-отдельными-атрибутами-Датасетов\" data-toc-modified-id=\"2.2.-Заданные-бизнес-связи-между-отдельными-атрибутами-Датасетов-2.2\">2.2. Заданные бизнес-связи между отдельными атрибутами Датасетов</a></span></li><li><span><a href=\"#2.3.-Задачи-исследования\" data-toc-modified-id=\"2.3.-Задачи-исследования-2.3\">2.3. Задачи исследования</a></span></li></ul></li><li><span><a href=\"#3.-Отчистка-и-коррекция-данных-(Data-Preparation)\" data-toc-modified-id=\"3.-Отчистка-и-коррекция-данных-(Data-Preparation)-3\">3. Отчистка и коррекция данных (Data-Preparation)</a></span><ul class=\"toc-item\"><li><span><a href=\"#3.1.-Загрузка-информации-о-визитах-и-событиях-(коррекция-типов-данных)\" data-toc-modified-id=\"3.1.-Загрузка-информации-о-визитах-и-событиях-(коррекция-типов-данных)-3.1\">3.1. Загрузка информации о визитах и событиях (коррекция типов данных)</a></span></li><li><span><a href=\"#3.2.-Формирование-единого-Датасета-с-проверкой-на-пустые-значения\" data-toc-modified-id=\"3.2.-Формирование-единого-Датасета-с-проверкой-на-пустые-значения-3.2\">3.2. Формирование единого Датасета с проверкой на пустые значения</a></span></li><li><span><a href=\"#3.2.-Коррекция-пустых-значений-Датасета-и-удаление-дубликатов-записей\" data-toc-modified-id=\"3.2.-Коррекция-пустых-значений-Датасета-и-удаление-дубликатов-записей-3.3\">3.2. Коррекция пустых значений Датасета и удаление дубликатов записей</a></span></li></ul></li></ul></div>"
   ]
  },
  {
   "cell_type": "markdown",
   "id": "30987cdd",
   "metadata": {},
   "source": [
    "  "
   ]
  },
  {
   "cell_type": "markdown",
   "id": "645f089d",
   "metadata": {},
   "source": [
    "# 1. Загрузка библиотек и написание вспомогательных функций"
   ]
  },
  {
   "cell_type": "code",
   "execution_count": 12,
   "id": "d7d44009",
   "metadata": {
    "ExecuteTime": {
     "end_time": "2023-01-13T22:01:57.125740Z",
     "start_time": "2023-01-13T22:01:57.122139Z"
    },
    "code_folding": [
     0
    ]
   },
   "outputs": [],
   "source": [
    "## Загрузка библиотек\n",
    "import os\n",
    "import pandas as pd\n",
    "import datetime as dt\n",
    "import missingno as msno"
   ]
  },
  {
   "cell_type": "code",
   "execution_count": 18,
   "id": "5f32c5d0",
   "metadata": {
    "ExecuteTime": {
     "end_time": "2023-01-13T22:10:03.974409Z",
     "start_time": "2023-01-13T22:10:03.929442Z"
    },
    "code_folding": [
     0
    ]
   },
   "outputs": [],
   "source": [
    "## Подготовка вспомогательных функций, используемых в исследовании\n",
    "\n",
    "\n",
    "### Функция загрузки датасета\n",
    "def file_load(file_name):\n",
    "    \"\"\"\n",
    "    Функция загружает Датасет из файла источника\n",
    "    \n",
    "        Параметры:\n",
    "            file_name (str): имя файла с данными\n",
    "        Выходные параметры (DataFrame)\n",
    "    \n",
    "    \"\"\"\n",
    "    fil_path = '../Data/' + file_name\n",
    "    df = pd.read_csv(fil_path)\n",
    "    file_info(df, fil_path)\n",
    "    \n",
    "    print('\\n... запускаем проверку идентичности типов данных в полях датасета ...')\n",
    "    noncorrect_columns = checking_type_error(df)\n",
    "    correct_type(df, noncorrect_columns)\n",
    "    \n",
    "    print('\\n... запускаем замену некорректного указания типа None ...')\n",
    "    df = df.replace(['nan'], np.nan)\n",
    "    print(\"Все значения 'nan' заменены на None.\\n\")\n",
    "    \n",
    "    return df\n",
    "\n",
    "\n",
    "### Функция определения характеристик файла источника данных\n",
    "def file_info(df, file_path):\n",
    "    \"\"\"\n",
    "    Функция описывает файл источник для загруженного датасета\n",
    "    \n",
    "        Параметры:\n",
    "            df (DataFrame): загруженный датасет\n",
    "            file_path (sgr): отрносительнрый путь к файлу с датасетом\n",
    "        Выходные параметры (None)\n",
    "    \n",
    "    \"\"\"\n",
    "    print(f'\\nИсточником данных является файл: {file_path[8:]}'\n",
    "          f'\\nРазмер файла {os.stat(file_path).st_size} байт'\n",
    "          f'\\nВ файле содержится 1 таблица:'\n",
    "          f'\\n  - количество строк: {df.shape[0]}'\n",
    "          f'\\n  - количество столбцов: {df.shape[1]}')\n",
    "\n",
    "\n",
    "### Функция проверки всех колонок Датасета на единство типа данных в колонке\n",
    "def checking_type_error(df):\n",
    "    \"\"\"\n",
    "    Функция проверяет каждое поле датасета на несовпадение типов данных и выводит поля с указанием количества записей разных типов\n",
    "    \n",
    "        Параметры:\n",
    "            df (DataFrame): проверяемый датасет\n",
    "        Выходные параметры:\n",
    "            columns_noncorrect_types (list): список полей датасета, в каждом из которых найдены разные типы данных\n",
    "    \n",
    "    \"\"\"\n",
    "    flagCorrect = True\n",
    "    columns_noncorrect_types = []\n",
    "    for elem in df.columns:\n",
    "        df_type = df[elem].apply(lambda x: type(x)).value_counts().to_frame()\n",
    "        if len(df_type) > 1:\n",
    "            columns_noncorrect_types.append(elem)\n",
    "            if flagCorrect:\n",
    "                print('Обнаружены данные разного типа в поле одного атрибута')\n",
    "                print(' ------------------------------------------------------------ ')\n",
    "                print('|  НАИМЕНОВАНИЕ ПОЛЯ  |  ТИП ДАННЫХ  |   КОЛИЧЕСТВО ЗАПИСЕЙ  |')\n",
    "                print(' ------------------------------------------------------------ ')\n",
    "            flagCorrect = False\n",
    "            \n",
    "            for i in range(len(df_type)):\n",
    "                print('   ', df_type.columns[0], ' ' * (21 - len(df_type.columns[0])),\n",
    "                      str(df_type.index[i])[7:-1], ' ' * (21 - len(str(df_type.index[i])[7:-1])),\n",
    "                      str(df_type[df_type.columns[0]].values[i]))\n",
    "            print(' ------------------------------------------------------------ ')\n",
    "    if flagCorrect:\n",
    "        print('Полей с разными типами данных в одном атрибуте не обнаружено!')\n",
    "    \n",
    "    return columns_noncorrect_types\n",
    "\n",
    "\n",
    "### Функция изменения типа данных с 'float' на 'str'\n",
    "def correct_type(df, noncorrect_columns):\n",
    "    \"\"\"\n",
    "    Функция изменяет типы данных на 'str' в заданных полях датасета\n",
    "    \n",
    "        Параметры:\n",
    "            df (DataFrame): датасет, в котором корректируются типы данных полей\n",
    "            noncorrect_columns (list): список полей датасета, в которых функция корректирует тип данных\n",
    "        Выходные параметры (None)\n",
    "        \n",
    "    \"\"\"\n",
    "    for elem in noncorrect_columns:\n",
    "        df[elem] = df[elem].apply(lambda x: str(x))\n",
    "    print(f'Коррекция датасета завершена в {len(noncorrect_columns)} колонках')\n",
    "    print('... запущена перепроверка идентичности типов данных ... ')\n",
    "    checking_type_error(df)\n",
    "\n",
    "\n",
    "## Функция проверки наличия незаполненных значений в колоноках датасета\n",
    "def data_set_audit(df):\n",
    "    \"\"\"\n",
    "    Функция проверяет пропуски в Датасете и выводит для каждого поля долю пропусков в % от общего количесвтва записей\n",
    "    \n",
    "        Параметры:\n",
    "            df (DataFrame): датасет, в котором проверяются пропуски\n",
    "        Выходные параметры (None)\n",
    "        \n",
    "    \"\"\"\n",
    "    print('Размер анализируемого Датасета:', df.shape)\n",
    "    nan_columns = [(elem, df[elem].isna().sum(), type(df.loc[0, elem]))\n",
    "                   for elem in df.columns\n",
    "                   if df[elem].isnull().describe()[1] > 1 or\n",
    "                   df[elem].isnull().describe()[1] == 1 and\n",
    "                   df[elem].isnull()[0] == True]\n",
    "    if len(nan_columns) > 0:\n",
    "        print('ПРОПУСКИ  В  КОЛОНКАХ  ДАТАСЕТА')\n",
    "        print('========================================================================')\n",
    "        print('  Поле                        Пропуски             Тип данных в колонке ')\n",
    "        print('                           (кол-во,      %)                             ')\n",
    "        print('------------------------------------------------------------------------')\n",
    "        for elem in nan_columns:\n",
    "            print(' ', elem[0],\n",
    "                  ' ' * (24 - len(elem[0])), elem[1],\n",
    "                  ' ' * (9 - len(str(elem[1]))), round((elem[1] / len(df) * 100), 2),\n",
    "                  ' ' * 12, str(elem[2])[7:-1])\n",
    "        print('========================================================================')\n",
    "    else:\n",
    "        print('Пропущенных данных в Датасете не обнаружено!')\n",
    "\n",
    "\n",
    "## Функция вывода на экран уникальных значений выранных атрибутов Датасета\n",
    "def print_unique(df, attributes):\n",
    "    \"\"\"\n",
    "    Функция выводит на экран уникальный набор значений в зананном наборе колонок датасета\n",
    "    \n",
    "        Параметры:\n",
    "            df (DataFrame): датасет, который обрабатывает функция\n",
    "            attributes (list): список колонок, которые которые обрабатывает функция в датасете\n",
    "        Выходные параметры (None)\n",
    "        \n",
    "    \"\"\"\n",
    "    for category in attributes:\n",
    "        print ('-' * 12)\n",
    "        print(f'В атрибуте: {category} - {df[category].nunique()} значений')\n",
    "        ls = [elem for elem in df[category].unique() if isinstance(elem, str)]\n",
    "        ls.sort()\n",
    "        print(ls)\n",
    "\n",
    "\n",
    "## Функция отчистки столбцов и строк от нулевых значений\n",
    "def clean_columns_rows(df, col_col_df, col_row_df,\\\n",
    "                       col_cell_val_top, col_cell_val_top_corr):\n",
    "    \"\"\"\n",
    "    Функция удаляет заданные столбы. Затем функция удаляет строки, в которых есть пропущеные данные \n",
    "    \n",
    "        Параметры:\n",
    "            df (DataFrame): датасет, в котором удаляются столбы, затем проверяются пропуски и удаляют соответвующие строки\n",
    "            col_col_df (list): список колонок, которые необходимо удалить.\n",
    "            col_row_df (list): списко колонок, при наличии пропусках в которых - необходимо удалить строки.\n",
    "            col_cell_val_top (list): список колонок, в которых необходимо замеить пропуски простым выбором наиболее часто встречающихся значений.\n",
    "            col_cell_val_top_corr (list(typle)): списко кортежей, в которых указываются родительские и дочернии колонки для подбора наиболее часто встречающихся значений в дочерней колонке с учтом соответствующего значения в родительской колонке.\n",
    "        Выходные параметры:\n",
    "            df_clear (DataFrame): датасет, отчищенный от пропусков\n",
    "        \n",
    "    \"\"\"\n",
    "    \n",
    "    print('Размер анализируемого Датасета:', df.shape, '\\n')\n",
    "    print('... удаляем колонки, в которых более 40% пропущенных данных ...')\n",
    "    df_drop_nacolumns = df.drop(columns=col_col_df, axis=1) # Удаление колонки 'hit_time'\n",
    "    print('После удаления заданных колонок - размер датасета:', df_drop_nacolumns.shape, '\\n')\n",
    "    \n",
    "    print('... удаляем строки, для которых в колонках менее 1% пропущенных данных ...')\n",
    "    df_clear = df_drop_nacolumns.dropna(subset=col_row_df, axis=0, how='any') # Удаление строк, в которых выявлены пропущенные данные\n",
    "    print('После удаления строк с нулевыми значениями - размер датасета:', df_clear.shape, '\\n')\n",
    "    print(f'Удаление колонок и 1 этап удаления строк с нулевыми данными - завершены\\n')\n",
    "    print('... запущена перепроверка отсутствия нулевых данных ... ')\n",
    "    data_set_audit(df_clear)\n",
    "    \n",
    "    print('... в независимых колонках меняем пропущенные данные на наиболее часто встречающиеся ... ')\n",
    "    for col in col_cell_val_top:\n",
    "        nan_indexes = df_clear[df_clear[col].isnull()].index\n",
    "        df_clear.loc[nan_indexes, col] = df_clear[col].describe().loc['top']\n",
    "    \n",
    "    \n",
    "        \n",
    "    print(f'Первый этап замены пропусков - завершён\\n')\n",
    "    \n",
    "    print('... запущена перепроверка отсутствия нулевых данных ... ')\n",
    "    data_set_audit(df_clear)\n",
    "    \n",
    "    print('\\n')\n",
    "    for column_elem in col_cell_val_top_corr:\n",
    "        parent_column, child_column = column_elem[0], column_elem[1]\n",
    "\n",
    "        # 1. Определяем уникальные значения родительской колонки,\n",
    "        #    имеющие пустые значения в дочерней колонке\n",
    "        columns_non_correct = list(df_clear[parent_column].loc[df_clear[child_column].isnull()].unique())\n",
    "\n",
    "        # 2. заполняем пустоты названиями, встречающимеся чаще всего среди значений\n",
    "        #    дочерней колонки для соответвующего значения родительской колонки Датасета\n",
    "\n",
    "        for col_cor in columns_non_correct:\n",
    "\n",
    "            # Массив индексов пустых значений в дочерней колонке Датасета,\n",
    "            # соответсвующих значению родительской колонки Датасета \n",
    "            index_nan_values = df_clear[child_column].\\\n",
    "                            loc[df_clear[child_column].isnull()].\\\n",
    "                            loc[df_clear[parent_column] == col_cor].index\n",
    "\n",
    "            # Самое часто встречающееся значение в дочерней колонке,\n",
    "            # соответсвущее значению родительской колонки Датасета\n",
    "            top_value = str(df_clear[child_column].\\\n",
    "                            loc[df_clear[child_column].notnull()].\\\n",
    "                            loc[df_clear[parent_column] == col_cor].\\\n",
    "                            describe().top) \n",
    "\n",
    "            if top_value not in [None, 'nan', 'null', 'Nan', 'NaN']:\n",
    "                df_clear.loc[index_nan_values, child_column] = top_value\n",
    "\n",
    "        print('... в зависимых колонках меняем пропуски на самые частые значения ... ')\n",
    "        print(f'Заменена нулевых данных, для которых выявлены наиболее часто встречающиеся значения - завершена\\n')\n",
    "        print('... запущена перепроверка отсутствия нулевых данных ... ')\n",
    "        data_set_audit(df_clear)\n",
    "\n",
    "        print('... удаляем строки, для которых в колонках остались пропущенные данные ...')\n",
    "        df_clear = df_clear.dropna(subset=[child_column], axis=0, how='any') # Удаление строк, в которых выявлены пропущенные данные\n",
    "        print('После удаления строк с нулевыми значениями - размер датасета:', df_clear.shape, '\\n')\n",
    "        print(f'Удаление строк с нулевыми данными - завершено\\n')\n",
    "        print('... запущена перепроверка отсутствия нулевых данных ... ')\n",
    "        data_set_audit(df_clear)\n",
    "    \n",
    "    return df_clear"
   ]
  },
  {
   "cell_type": "markdown",
   "id": "ebbae8f4",
   "metadata": {},
   "source": [
    "  "
   ]
  },
  {
   "cell_type": "markdown",
   "id": "6509aa94",
   "metadata": {
    "cell_style": "center"
   },
   "source": [
    "# 2. Знакомство с данными (Data Uderstanding)"
   ]
  },
  {
   "cell_type": "markdown",
   "id": "076fdc74",
   "metadata": {},
   "source": [
    "## 2.1. Описание атрибутов исходных Датасетов"
   ]
  },
  {
   "cell_type": "markdown",
   "id": "0a58ced7",
   "metadata": {},
   "source": [
    "Атрибуты Датасета визитов {поле, (пример данных), описание}:\n",
    ">`session_id` (9055434745589932991.1637753792.1637753792) — ID визита  \n",
    ">`client_id` (2108382700.1637757) — ID посетителя  \n",
    ">`visit_date` (2021-11-24) — дата визита  \n",
    ">`visit_time` (14:36:32) — время визита  \n",
    ">`visit_number` (1.0) — порядковый номер визита клиента  \n",
    ">`utm_source` (ZpYIoDJMcFzVoPFsHGJL) — канал привлечения  \n",
    ">`utm_medium` (banner) — тип привлечения  \n",
    ">`utm_campaign` (LEoPHuyFvzoNfnzGgfcd) — рекламная кампания  \n",
    ">`utm_adcontent` (vCIpmpaGBnIQhyYNkXqp) — не описанный атрибут  \n",
    ">`utm_keyword` (puhZPIYqKXeFPaUviSjo) — ключевое слово  \n",
    ">`device_category` () — тип устройства  \n",
    ">`device_os` () — ОС устройства  \n",
    ">`device_brand` () — марка устройства  \n",
    ">`device_model` () — модель устройства  \n",
    ">`device_screen_resolution` () — разрешение экрана  \n",
    ">`device_browser` () — браузер  \n",
    ">`geo_country` (Rossia) — страна  \n",
    ">`geo_city` (Moscow) — город"
   ]
  },
  {
   "cell_type": "markdown",
   "id": "d8102358",
   "metadata": {},
   "source": [
    "Атрибуты Датасета событий {поле, (пример данных), описание}:\n",
    ">`session_id` — (9055434745589932991.1637753792.1637753792) ID визита  \n",
    ">`hit_date` — (2021-11-24) дата события  \n",
    ">`hit_time` — (3665.0) время события  \n",
    ">`hit_number` — (3.0) порядковый номер события в рамках сессии  \n",
    ">`hit_type` — (event) тип события  \n",
    ">`hit_referer` — (FwdMTcXzWAwhtsnMAbhS) источник события  \n",
    ">`hit_page_path` — (podpiska.sberauto.com/) страница события  \n",
    ">`event_category` — (sub_page_view) тип действия  \n",
    ">`event_action` — (sub_landing) действие  \n",
    ">`event_label` — (KclpemfoHstknWHFiLit) тег действия  \n",
    ">`event_value` — (None) значение результата действия"
   ]
  },
  {
   "cell_type": "markdown",
   "id": "cb26a52d",
   "metadata": {},
   "source": [
    "  "
   ]
  },
  {
   "cell_type": "markdown",
   "id": "80e1489d",
   "metadata": {},
   "source": [
    "## 2.2. Заданные бизнес-связи между отдельными атрибутами Датасетов"
   ]
  },
  {
   "cell_type": "markdown",
   "id": "4f4c838c",
   "metadata": {},
   "source": [
    "**Целевое действие — события типа «Оставить заявку» и «Заказать звонок»**  \n",
    "`ga_hits.event_action` принимает одно из следующих значений  \n",
    "['sub_car_claim_click', 'sub_car_claim_submit_click', 'sub_open_dialog_click', 'sub_custom_question_submit_click', 'sub_call_number_click', 'sub_callback_submit_click', 'sub_submit_success', 'sub_car_request_submit_click']"
   ]
  },
  {
   "cell_type": "markdown",
   "id": "d0fa12c5",
   "metadata": {},
   "source": [
    "**CR (Conversion Rate) — показатель конверсии** из визита (уникальный `session_id`) в любое целевое действие в рамках одного визита. В случае наличия более одного целевого действия — считать все действия как одно."
   ]
  },
  {
   "cell_type": "markdown",
   "id": "e03f5717",
   "metadata": {},
   "source": [
    "**Органический трафик — все визиты, в которых:**  \n",
    "`ga_sessions.utm_medium` принимает одно из следующих значений ['organic', 'referral', '(none)']  \n",
    "**Платный трафик — весь неорганический трафик**"
   ]
  },
  {
   "cell_type": "markdown",
   "id": "0d3f6573",
   "metadata": {},
   "source": [
    "**Информация про марку и модель автомобиля** содержится в `ga_hits.hit_page_path`"
   ]
  },
  {
   "cell_type": "markdown",
   "id": "61810ad0",
   "metadata": {},
   "source": [
    "**Реклама в социальных сетях — все визиты в которых:**  \n",
    "`с ga_sessions.utm_source` принимает одно из следующих значений:  \n",
    "['QxAxdyPLuQMEcrdZWdWb', 'MvfHsxITijuriZxsqZqt', 'ISrKoXQCxqqYvAZICvjs', 'IZEXUFLARCUMynmHNBGo', 'PlbkrSYoHuZBWfYjYnfw', 'gVRrcxiDQubJiljoTbGm']"
   ]
  },
  {
   "cell_type": "markdown",
   "id": "a14416b5",
   "metadata": {},
   "source": [
    "  "
   ]
  },
  {
   "cell_type": "markdown",
   "id": "85a1c576",
   "metadata": {
    "heading_collapsed": true
   },
   "source": [
    "## 2.3. Задачи исследования"
   ]
  },
  {
   "cell_type": "markdown",
   "id": "affbb065",
   "metadata": {
    "hidden": true
   },
   "source": [
    "1. ПРОВЕРИТЬ ГИПОТИЗУ: Органический трафик не отличается от платного с точки зрения CR (Conversion Rate) в целевые события."
   ]
  },
  {
   "cell_type": "markdown",
   "id": "784c8c42",
   "metadata": {
    "hidden": true
   },
   "source": [
    "2. ПРОВЕРИТЬ ГИПОТИЗУ: Трафик с мобильных устройств не отличается от трафика\n",
    "с десктопных устройств с точки зрения CR (Conversion Rate) в целевые события."
   ]
  },
  {
   "cell_type": "markdown",
   "id": "083cebe0",
   "metadata": {
    "hidden": true
   },
   "source": [
    "3. ПРОВЕРИТЬ ГИПОТИЗУ: Трафик из городов присутствия (Москва и область, Санкт-Петербург) не отличается от трафика из иных регионов с точки зрения CR (Conversion Rate) в целевые события."
   ]
  },
  {
   "cell_type": "markdown",
   "id": "9c819311",
   "metadata": {
    "hidden": true
   },
   "source": [
    "4. ОТВЕТИТЬ НА ВОПРОС: Из каких источников / кампаний / устройств / локаций к нам идёт самый целевой трафик (и с точки зрения объёма трафика, и с точки зрения CR)?"
   ]
  },
  {
   "cell_type": "markdown",
   "id": "87314cf8",
   "metadata": {
    "hidden": true
   },
   "source": [
    "5. ОТВЕТИТЬ НА ВОПРОС: Какие авто пользуются наибольшим спросом? У каких авто самый лучший показатель CR (Conversion Rate) в целевые события?"
   ]
  },
  {
   "cell_type": "markdown",
   "id": "3d1187da",
   "metadata": {
    "hidden": true
   },
   "source": [
    "6. ОТВЕТИТЬ НА ВОПРОС: Стоит ли нам увеличивать своё присутствие в соцсетях и давать там больше рекламы?"
   ]
  },
  {
   "cell_type": "markdown",
   "id": "5c99ef9c",
   "metadata": {
    "hidden": true
   },
   "source": [
    "  "
   ]
  },
  {
   "cell_type": "markdown",
   "id": "0381addc",
   "metadata": {},
   "source": [
    "# 3. Отчистка и коррекция данных (Data-Preparation)"
   ]
  },
  {
   "cell_type": "markdown",
   "id": "fedbb64a",
   "metadata": {
    "heading_collapsed": true
   },
   "source": [
    "## 3.1. Загрузка информации о визитах и событиях (коррекция типов данных)"
   ]
  },
  {
   "cell_type": "code",
   "execution_count": 16,
   "id": "6e6c6593",
   "metadata": {
    "ExecuteTime": {
     "end_time": "2023-01-13T22:07:47.891390Z",
     "start_time": "2023-01-13T22:04:19.997472Z"
    },
    "hidden": true,
    "scrolled": true
   },
   "outputs": [
    {
     "name": "stderr",
     "output_type": "stream",
     "text": [
      "/var/folders/5h/1vkpjwr90l19cmzfgsfrcpvm0000gn/T/ipykernel_3388/3786508636.py:15: DtypeWarning: Columns (1) have mixed types. Specify dtype option on import or set low_memory=False.\n",
      "  df = pd.read_csv(fil_path)\n"
     ]
    },
    {
     "name": "stdout",
     "output_type": "stream",
     "text": [
      "\n",
      "Источником данных является файл: ga_sessions.csv\n",
      "Размер файла 388066338 байт\n",
      "В файле содержится 1 таблица:\n",
      "  - количество строк: 1860042\n",
      "  - количество столбцов: 18\n",
      "\n",
      "... запускаем проверку идентичности типов данных в полях датасета ...\n",
      "Обнаружены данные разного типа в поле одного атрибута\n",
      " ------------------------------------------------------------ \n",
      "|  НАИМЕНОВАНИЕ ПОЛЯ  |  ТИП ДАННЫХ  |   КОЛИЧЕСТВО ЗАПИСЕЙ  |\n",
      " ------------------------------------------------------------ \n",
      "    client_id              'float'                1597898\n",
      "    client_id              'str'                  262144\n",
      " ------------------------------------------------------------ \n",
      "    utm_source             'str'                  1859945\n",
      "    utm_source             'float'                97\n",
      " ------------------------------------------------------------ \n",
      "    utm_campaign           'str'                  1640439\n",
      "    utm_campaign           'float'                219603\n",
      " ------------------------------------------------------------ \n",
      "    utm_adcontent          'str'                  1524427\n",
      "    utm_adcontent          'float'                335615\n",
      " ------------------------------------------------------------ \n",
      "    utm_keyword            'float'                1082061\n",
      "    utm_keyword            'str'                  777981\n",
      " ------------------------------------------------------------ \n",
      "    device_os              'float'                1070138\n",
      "    device_os              'str'                  789904\n",
      " ------------------------------------------------------------ \n",
      "    device_brand           'str'                  1492864\n",
      "    device_brand           'float'                367178\n",
      " ------------------------------------------------------------ \n",
      "    device_model           'float'                1843704\n",
      "    device_model           'str'                  16338\n",
      " ------------------------------------------------------------ \n",
      "Коррекция датасета завершена в 8 колонках\n",
      "... запущена перепроверка идентичности типов данных ... \n",
      "Полей с разными типами данных в одном атрибуте не обнаружено!\n",
      "\n",
      "... запускаем замену некорректного указания типа None ...\n",
      "Все значения 'nan' заменены на None./n\n",
      "\n",
      "Источником данных является файл: ga_hits.csv\n",
      "Размер файла 4266520100 байт\n",
      "В файле содержится 1 таблица:\n",
      "  - количество строк: 15726470\n",
      "  - количество столбцов: 11\n",
      "\n",
      "... запускаем проверку идентичности типов данных в полях датасета ...\n",
      "Обнаружены данные разного типа в поле одного атрибута\n",
      " ------------------------------------------------------------ \n",
      "|  НАИМЕНОВАНИЕ ПОЛЯ  |  ТИП ДАННЫХ  |   КОЛИЧЕСТВО ЗАПИСЕЙ  |\n",
      " ------------------------------------------------------------ \n",
      "    hit_referer            'str'                  9451666\n",
      "    hit_referer            'float'                6274804\n",
      " ------------------------------------------------------------ \n",
      "    event_label            'str'                  11966286\n",
      "    event_label            'float'                3760184\n",
      " ------------------------------------------------------------ \n",
      "Коррекция датасета завершена в 2 колонках\n",
      "... запущена перепроверка идентичности типов данных ... \n",
      "Полей с разными типами данных в одном атрибуте не обнаружено!\n",
      "\n",
      "... запускаем замену некорректного указания типа None ...\n",
      "Все значения 'nan' заменены на None./n\n"
     ]
    }
   ],
   "source": [
    "df_sessions, df_hits = file_load('ga_sessions.csv'), file_load('ga_hits.csv')"
   ]
  },
  {
   "cell_type": "markdown",
   "id": "5e1e059f",
   "metadata": {
    "hidden": true
   },
   "source": [
    "  "
   ]
  },
  {
   "cell_type": "markdown",
   "id": "c7dc7b9f",
   "metadata": {
    "heading_collapsed": true
   },
   "source": [
    "## 3.2. Формирование единого Датасета с проверкой на пустые значения"
   ]
  },
  {
   "cell_type": "markdown",
   "id": "c3ea07d5",
   "metadata": {
    "hidden": true
   },
   "source": [
    "В таблице Датасета визитов (ga_sessions.csv) первичным ключом является поле `session_id`. В таблице Датасета событий поле `session_id` являтся внешним ключом. Таким образом, для формирования единого Датасета можно объединить таблицы по полю `session_id`."
   ]
  },
  {
   "cell_type": "code",
   "execution_count": 19,
   "id": "fea3ee5f",
   "metadata": {
    "ExecuteTime": {
     "end_time": "2023-01-13T22:16:45.728867Z",
     "start_time": "2023-01-13T22:15:49.094499Z"
    },
    "code_folding": [
     0
    ],
    "hidden": true
   },
   "outputs": [],
   "source": [
    "# Объединение Датасетов по первичному и внешнему ключу\n",
    "df = df_sessions.merge(df_hits, left_on='session_id', right_on='session_id', how='outer')"
   ]
  },
  {
   "cell_type": "code",
   "execution_count": 20,
   "id": "34403ca4",
   "metadata": {
    "ExecuteTime": {
     "end_time": "2023-01-13T22:17:03.643258Z",
     "start_time": "2023-01-13T22:17:02.509477Z"
    },
    "hidden": true
   },
   "outputs": [],
   "source": [
    "# Очищаем память от неиспользуемых дальше Датасетов (для ускорения вычислений)\n",
    "del df_sessions\n",
    "del df_hits"
   ]
  },
  {
   "cell_type": "markdown",
   "id": "87c67494",
   "metadata": {
    "hidden": true
   },
   "source": [
    "  "
   ]
  },
  {
   "cell_type": "code",
   "execution_count": 21,
   "id": "7fc9b32a",
   "metadata": {
    "ExecuteTime": {
     "end_time": "2023-01-13T22:17:56.716235Z",
     "start_time": "2023-01-13T22:17:16.132085Z"
    },
    "hidden": true,
    "scrolled": true
   },
   "outputs": [
    {
     "name": "stdout",
     "output_type": "stream",
     "text": [
      "Размер анализируемого Датасета: (15854246, 28)\n",
      "ПРОПУСКИ  В  КОЛОНКАХ  ДАТАСЕТА\n",
      "========================================================================\n",
      "  Поле                        Пропуски             Тип данных в колонке \n",
      "                           (кол-во,      %)                             \n",
      "------------------------------------------------------------------------\n",
      "  client_id                 41251      0.26              'str'\n",
      "  visit_date                41251      0.26              'str'\n",
      "  visit_time                41251      0.26              'str'\n",
      "  visit_number              41251      0.26              'numpy.float64'\n",
      "  utm_source                41972      0.26              'str'\n",
      "  utm_medium                41251      0.26              'str'\n",
      "  utm_campaign              2264440    14.28              'str'\n",
      "  utm_adcontent             2905147    18.32              'str'\n",
      "  utm_keyword               9307387    58.71              'str'\n",
      "  device_category           41251      0.26              'str'\n",
      "  device_os                 9255807    58.38              'str'\n",
      "  device_brand              4007108    25.27              'str'\n",
      "  device_model              15730683   99.22              'float'\n",
      "  device_screen_resolution  41251      0.26              'str'\n",
      "  device_browser            41251      0.26              'str'\n",
      "  geo_country               41251      0.26              'str'\n",
      "  geo_city                  41251      0.26              'str'\n",
      "  hit_date                  127776     0.81              'str'\n",
      "  hit_time                  9288098    58.58              'numpy.float64'\n",
      "  hit_number                127776     0.81              'numpy.float64'\n",
      "  hit_type                  127776     0.81              'str'\n",
      "  hit_referer               6402580    40.38              'float'\n",
      "  hit_page_path             127776     0.81              'str'\n",
      "  event_category            127776     0.81              'str'\n",
      "  event_action              127776     0.81              'str'\n",
      "  event_label               3887960    24.52              'float'\n",
      "  event_value               15854246   100.0              'numpy.float64'\n",
      "========================================================================\n"
     ]
    }
   ],
   "source": [
    "# Определение доли пустых значений в каждом поле Датасета \n",
    "data_set_audit(df)"
   ]
  },
  {
   "cell_type": "code",
   "execution_count": 22,
   "id": "9460b2f9",
   "metadata": {
    "ExecuteTime": {
     "end_time": "2023-01-13T22:22:50.285511Z",
     "start_time": "2023-01-13T22:18:09.194517Z"
    },
    "hidden": true,
    "scrolled": true
   },
   "outputs": [
    {
     "data": {
      "image/png": "[encoded data removed]",
      "text/plain": [
       "<Figure size 2500x1000 with 2 Axes>"
      ]
     },
     "metadata": {},
     "output_type": "display_data"
    }
   ],
   "source": [
    "## Визуализируем пропущенные значения Датасета\n",
    "msno.matrix(df);"
   ]
  },
  {
   "cell_type": "markdown",
   "id": "b63ade20",
   "metadata": {
    "hidden": true
   },
   "source": [
    "**Вывод.** В объединённом Датасете:\n",
    "- в группе колонок 'utm_keyword', 'device_model', 'hit_time', 'hit_referer', 'event_value' пустых значений более 40%. Такое большое количесвто пропущенных значений не даёт возможность удалить строки с пропусками из-за возможности потери при такой операции более половины данных. Так же из-за большого количества пропусков восстановление данных по средним значениям не целесообразно. Таким образом - для исключения ситуации с пропущенными данными целесообразно удалить столбец указанные столбцы;\n",
    "- в группе колонок 'client_id-utm_source, device_category, device_screen_resolution-device_browser', 'geo_country', 'hit_date', 'hit_number-hit_type, hit_page_path-event_action' имеют пропуски данных в строк - менее 1%. Судя по визуализации пропущенных данных и идентичному количесвту пропусков в отдельных группах колонк - совокупное уменьшение строк в датасете после удаление строк с отсутсвующими значениями в таких колонках приведёт к потре всего около 1,07% записей. Таким образом, учитывая незначительное для наблюдения и моделирования количество потерянных записей при удалении строк с пропущенными данными - для исключения ситуации с пропущенными данными целесообразно удалить строки с пропусками в таких колонках;\n",
    "- в группе колонок 'utm_medium-utm_adcontent, device_brand, event_label' доля пропущенных значений находится в диапазоне от 14,28% до 26,12%. В этих колонках нет явной зависимости значений от значений в других колонках. Так как данные колонки имеют строковые данные и большой % пропусков, непозволяющий удалить строки с пропущенными данными - целессобразно заменить пропущенные данные наиболее часто встревающимися значениями в соответсвующей колонке;\n",
    "- в колонке 'geo_city' 4,05% пропущенных данных. При этом значения данной колонки зависят от значений в колонке 'geo_country' (т.е. каждый город может соответсвовать только конкретной стране). Таким образом, пропуски в этой колонке целесообразно заполнить наиболее часто встречающимися значениями, которые выбраны как самые встречающиеся из массивов городов для соответвующих значеням 'geo_country' в строках с не пропущенными значениями 'geo_city'."
   ]
  },
  {
   "cell_type": "markdown",
   "id": "0dc4a68d",
   "metadata": {},
   "source": [
    "## 3.2. Коррекция пустых значений Датасета и удаление дубликатов записей"
   ]
  },
  {
   "cell_type": "code",
   "execution_count": 23,
   "id": "2d19f5b4",
   "metadata": {
    "ExecuteTime": {
     "end_time": "2023-01-13T22:24:18.629826Z",
     "start_time": "2023-01-13T22:24:18.613796Z"
    }
   },
   "outputs": [],
   "source": [
    "# Список удаляемых колонок\n",
    "# (в колонках более 40% пропущенных данных)\n",
    "columns_columns_delete = ['utm_keyword', 'device_os', 'device_model',\\\n",
    "                          'hit_time', 'hit_referer', 'event_value']\n",
    "\n",
    "# Список колонок, в которых проверется наличие пропусков для удаления строк\n",
    "# (в колонках менее 1% пропущенных данных)\n",
    "columns_rows_delete = ['client_id', 'visit_date', 'visit_time', 'visit_number',\\\n",
    "                       'utm_source', 'device_category', 'device_screen_resolution',\\\n",
    "                       'device_browser', 'geo_country',\\\n",
    "                       'hit_date', 'hit_number', 'hit_type', 'hit_page_path',\\\n",
    "                       'event_category', 'event_action']\n",
    "\n",
    "# Список колонок, в которых меняются пропуски на наиболее часто встречающиеся значения\n",
    "# (в колонках более 1% и менее 40% пропущенных данных)\n",
    "columns_value_top = ['utm_medium', 'utm_campaign', 'utm_adcontent',\\\n",
    "                     'device_brand', 'event_label']\n",
    "\n",
    "# Список колонок, в которых меняются пропуски на наиболее часто встречающиеся значения\n",
    "# при этом одновременно учитываются корреляциии атрибута с другим атрибутом\n",
    "#(в колонках более 1% и менее 40% пропущенных данных)\n",
    "columns_value_top_correlation = [('geo_country', 'geo_city')]\n"
   ]
  },
  {
   "cell_type": "code",
   "execution_count": 24,
   "id": "def9f65a",
   "metadata": {
    "ExecuteTime": {
     "end_time": "2023-01-13T22:29:25.781935Z",
     "start_time": "2023-01-13T22:24:30.833049Z"
    },
    "scrolled": true
   },
   "outputs": [
    {
     "name": "stdout",
     "output_type": "stream",
     "text": [
      "Размер анализируемого Датасета: (15854246, 28) \n",
      "\n",
      "... удаляем колонки, в которых более 40% пропущенных данных ...\n",
      "После удаления заданных колонок - размер датасета: (15854246, 22) \n",
      "\n",
      "... удаляем строки, для которых в колонках менее 1% пропущенных данных ...\n",
      "После удаления строк с нулевыми значениями - размер датасета: (15684519, 22) \n",
      "\n",
      "Удаление колонок и 1 этап удаления строк с нулевыми данными - завершены\n",
      "\n",
      "... запущена перепроверка отсутствия нулевых данных ... \n",
      "Размер анализируемого Датасета: (15684519, 22)\n",
      "ПРОПУСКИ  В  КОЛОНКАХ  ДАТАСЕТА\n",
      "========================================================================\n",
      "  Поле                        Пропуски             Тип данных в колонке \n",
      "                           (кол-во,      %)                             \n",
      "------------------------------------------------------------------------\n",
      "  utm_campaign              2198873    14.02              'str'\n",
      "  utm_adcontent             2832006    18.06              'str'\n",
      "  device_brand              3945341    25.15              'str'\n",
      "  event_label               3727140    23.76              'float'\n",
      "========================================================================\n",
      "... в независимых колонках меняем пропущенные данные на наиболее часто встречающиеся ... \n",
      "Первый этап замены пропусков - завершён\n",
      "\n",
      "... запущена перепроверка отсутствия нулевых данных ... \n",
      "Размер анализируемого Датасета: (15684519, 22)\n",
      "Пропущенных данных в Датасете не обнаружено!\n",
      "\n",
      "\n",
      "... в зависимых колонках меняем пропуски на самые частые значения ... \n",
      "Заменена нулевых данных, для которых выявлены наиболее часто встречающиеся значения - завершена\n",
      "\n",
      "... запущена перепроверка отсутствия нулевых данных ... \n",
      "Размер анализируемого Датасета: (15684519, 22)\n",
      "Пропущенных данных в Датасете не обнаружено!\n",
      "... удаляем строки, для которых в колонках остались пропущенные данные ...\n",
      "После удаления строк с нулевыми значениями - размер датасета: (15684519, 22) \n",
      "\n",
      "Удаление строк с нулевыми данными - завершено\n",
      "\n",
      "... запущена перепроверка отсутствия нулевых данных ... \n",
      "Размер анализируемого Датасета: (15684519, 22)\n",
      "Пропущенных данных в Датасете не обнаружено!\n"
     ]
    },
    {
     "data": {
      "text/html": [
       "<div>\n",
       "<style scoped>\n",
       "    .dataframe tbody tr th:only-of-type {\n",
       "        vertical-align: middle;\n",
       "    }\n",
       "\n",
       "    .dataframe tbody tr th {\n",
       "        vertical-align: top;\n",
       "    }\n",
       "\n",
       "    .dataframe thead th {\n",
       "        text-align: right;\n",
       "    }\n",
       "</style>\n",
       "<table border=\"1\" class=\"dataframe\">\n",
       "  <thead>\n",
       "    <tr style=\"text-align: right;\">\n",
       "      <th></th>\n",
       "      <th>session_id</th>\n",
       "      <th>client_id</th>\n",
       "      <th>visit_date</th>\n",
       "      <th>visit_time</th>\n",
       "      <th>visit_number</th>\n",
       "      <th>utm_source</th>\n",
       "      <th>utm_medium</th>\n",
       "      <th>utm_campaign</th>\n",
       "      <th>utm_adcontent</th>\n",
       "      <th>device_category</th>\n",
       "      <th>...</th>\n",
       "      <th>device_browser</th>\n",
       "      <th>geo_country</th>\n",
       "      <th>geo_city</th>\n",
       "      <th>hit_date</th>\n",
       "      <th>hit_number</th>\n",
       "      <th>hit_type</th>\n",
       "      <th>hit_page_path</th>\n",
       "      <th>event_category</th>\n",
       "      <th>event_action</th>\n",
       "      <th>event_label</th>\n",
       "    </tr>\n",
       "  </thead>\n",
       "  <tbody>\n",
       "    <tr>\n",
       "      <th>0</th>\n",
       "      <td>9055434745589932991.1637753792.1637753792</td>\n",
       "      <td>2108382700.1637757</td>\n",
       "      <td>2021-11-24</td>\n",
       "      <td>14:36:32</td>\n",
       "      <td>1.0</td>\n",
       "      <td>ZpYIoDJMcFzVoPFsHGJL</td>\n",
       "      <td>banner</td>\n",
       "      <td>LEoPHuyFvzoNfnzGgfcd</td>\n",
       "      <td>vCIpmpaGBnIQhyYNkXqp</td>\n",
       "      <td>mobile</td>\n",
       "      <td>...</td>\n",
       "      <td>Chrome</td>\n",
       "      <td>Russia</td>\n",
       "      <td>Zlatoust</td>\n",
       "      <td>2021-11-24</td>\n",
       "      <td>3.0</td>\n",
       "      <td>event</td>\n",
       "      <td>podpiska.sberauto.com/</td>\n",
       "      <td>sub_page_view</td>\n",
       "      <td>sub_landing</td>\n",
       "      <td>KclpemfoHstknWHFiLit</td>\n",
       "    </tr>\n",
       "    <tr>\n",
       "      <th>1</th>\n",
       "      <td>9055434745589932991.1637753792.1637753792</td>\n",
       "      <td>2108382700.1637757</td>\n",
       "      <td>2021-11-24</td>\n",
       "      <td>14:36:32</td>\n",
       "      <td>1.0</td>\n",
       "      <td>ZpYIoDJMcFzVoPFsHGJL</td>\n",
       "      <td>banner</td>\n",
       "      <td>LEoPHuyFvzoNfnzGgfcd</td>\n",
       "      <td>vCIpmpaGBnIQhyYNkXqp</td>\n",
       "      <td>mobile</td>\n",
       "      <td>...</td>\n",
       "      <td>Chrome</td>\n",
       "      <td>Russia</td>\n",
       "      <td>Zlatoust</td>\n",
       "      <td>2021-11-24</td>\n",
       "      <td>4.0</td>\n",
       "      <td>event</td>\n",
       "      <td>podpiska.sberauto.com/</td>\n",
       "      <td>sub_button_click</td>\n",
       "      <td>sub_view_cars_click</td>\n",
       "      <td>vodKSlUobUWTVlgsJqdI</td>\n",
       "    </tr>\n",
       "    <tr>\n",
       "      <th>2</th>\n",
       "      <td>905544597018549464.1636867290.1636867290</td>\n",
       "      <td>210838531.16368672</td>\n",
       "      <td>2021-11-14</td>\n",
       "      <td>08:21:30</td>\n",
       "      <td>1.0</td>\n",
       "      <td>MvfHsxITijuriZxsqZqt</td>\n",
       "      <td>cpm</td>\n",
       "      <td>FTjNLDyTrXaWYgZymFkV</td>\n",
       "      <td>xhoenQgDQsgfEPYNPwKO</td>\n",
       "      <td>mobile</td>\n",
       "      <td>...</td>\n",
       "      <td>Samsung Internet</td>\n",
       "      <td>Russia</td>\n",
       "      <td>Moscow</td>\n",
       "      <td>2021-11-14</td>\n",
       "      <td>3.0</td>\n",
       "      <td>event</td>\n",
       "      <td>podpiska.sberauto.com/</td>\n",
       "      <td>sub_page_view</td>\n",
       "      <td>sub_landing</td>\n",
       "      <td>KclpemfoHstknWHFiLit</td>\n",
       "    </tr>\n",
       "    <tr>\n",
       "      <th>3</th>\n",
       "      <td>9055446045651783499.1640648526.1640648526</td>\n",
       "      <td>2108385331.164065</td>\n",
       "      <td>2021-12-28</td>\n",
       "      <td>02:42:06</td>\n",
       "      <td>1.0</td>\n",
       "      <td>ZpYIoDJMcFzVoPFsHGJL</td>\n",
       "      <td>banner</td>\n",
       "      <td>LEoPHuyFvzoNfnzGgfcd</td>\n",
       "      <td>vCIpmpaGBnIQhyYNkXqp</td>\n",
       "      <td>mobile</td>\n",
       "      <td>...</td>\n",
       "      <td>Chrome</td>\n",
       "      <td>Russia</td>\n",
       "      <td>Krasnoyarsk</td>\n",
       "      <td>2021-12-28</td>\n",
       "      <td>10.0</td>\n",
       "      <td>event</td>\n",
       "      <td>sberauto.com/cars?utm_source_initial=sbol&amp;utm_...</td>\n",
       "      <td>search_form</td>\n",
       "      <td>search_form_region</td>\n",
       "      <td>KWTCzSIXzoqUWjfUQMgP</td>\n",
       "    </tr>\n",
       "    <tr>\n",
       "      <th>4</th>\n",
       "      <td>9055446045651783499.1640648526.1640648526</td>\n",
       "      <td>2108385331.164065</td>\n",
       "      <td>2021-12-28</td>\n",
       "      <td>02:42:06</td>\n",
       "      <td>1.0</td>\n",
       "      <td>ZpYIoDJMcFzVoPFsHGJL</td>\n",
       "      <td>banner</td>\n",
       "      <td>LEoPHuyFvzoNfnzGgfcd</td>\n",
       "      <td>vCIpmpaGBnIQhyYNkXqp</td>\n",
       "      <td>mobile</td>\n",
       "      <td>...</td>\n",
       "      <td>Chrome</td>\n",
       "      <td>Russia</td>\n",
       "      <td>Krasnoyarsk</td>\n",
       "      <td>2021-12-28</td>\n",
       "      <td>13.0</td>\n",
       "      <td>event</td>\n",
       "      <td>sberauto.com/cars?utm_source_initial=sbol&amp;utm_...</td>\n",
       "      <td>search_form</td>\n",
       "      <td>search_form_region</td>\n",
       "      <td>CBqnBQaKoQUyWJhLcxxN</td>\n",
       "    </tr>\n",
       "    <tr>\n",
       "      <th>...</th>\n",
       "      <td>...</td>\n",
       "      <td>...</td>\n",
       "      <td>...</td>\n",
       "      <td>...</td>\n",
       "      <td>...</td>\n",
       "      <td>...</td>\n",
       "      <td>...</td>\n",
       "      <td>...</td>\n",
       "      <td>...</td>\n",
       "      <td>...</td>\n",
       "      <td>...</td>\n",
       "      <td>...</td>\n",
       "      <td>...</td>\n",
       "      <td>...</td>\n",
       "      <td>...</td>\n",
       "      <td>...</td>\n",
       "      <td>...</td>\n",
       "      <td>...</td>\n",
       "      <td>...</td>\n",
       "      <td>...</td>\n",
       "      <td>...</td>\n",
       "    </tr>\n",
       "    <tr>\n",
       "      <th>15812990</th>\n",
       "      <td>9055430416266113553.1640968742.1640968742</td>\n",
       "      <td>2108381692.1640968</td>\n",
       "      <td>2021-12-31</td>\n",
       "      <td>19:39:02</td>\n",
       "      <td>1.0</td>\n",
       "      <td>fgymSoTvjKPEgaIJqsiH</td>\n",
       "      <td>cpm</td>\n",
       "      <td>FTjNLDyTrXaWYgZymFkV</td>\n",
       "      <td>yYdBRbPmBMUZHXwqGxNx</td>\n",
       "      <td>desktop</td>\n",
       "      <td>...</td>\n",
       "      <td>Chrome</td>\n",
       "      <td>Russia</td>\n",
       "      <td>Moscow</td>\n",
       "      <td>2021-12-31</td>\n",
       "      <td>11.0</td>\n",
       "      <td>event</td>\n",
       "      <td>sberauto.com/cars/all/bmw/3-serii/bde2c9d5?utm...</td>\n",
       "      <td>card_web</td>\n",
       "      <td>view_card</td>\n",
       "      <td>KclpemfoHstknWHFiLit</td>\n",
       "    </tr>\n",
       "    <tr>\n",
       "      <th>15812991</th>\n",
       "      <td>9055430416266113553.1640968742.1640968742</td>\n",
       "      <td>2108381692.1640968</td>\n",
       "      <td>2021-12-31</td>\n",
       "      <td>19:39:02</td>\n",
       "      <td>1.0</td>\n",
       "      <td>fgymSoTvjKPEgaIJqsiH</td>\n",
       "      <td>cpm</td>\n",
       "      <td>FTjNLDyTrXaWYgZymFkV</td>\n",
       "      <td>yYdBRbPmBMUZHXwqGxNx</td>\n",
       "      <td>desktop</td>\n",
       "      <td>...</td>\n",
       "      <td>Chrome</td>\n",
       "      <td>Russia</td>\n",
       "      <td>Moscow</td>\n",
       "      <td>2021-12-31</td>\n",
       "      <td>16.0</td>\n",
       "      <td>event</td>\n",
       "      <td>sberauto.com/cars/all/bmw/3-serii/bde2c9d5?utm...</td>\n",
       "      <td>card_web</td>\n",
       "      <td>view_new_card</td>\n",
       "      <td>KclpemfoHstknWHFiLit</td>\n",
       "    </tr>\n",
       "    <tr>\n",
       "      <th>15812992</th>\n",
       "      <td>9055430416266113553.1640968742.1640968742</td>\n",
       "      <td>2108381692.1640968</td>\n",
       "      <td>2021-12-31</td>\n",
       "      <td>19:39:02</td>\n",
       "      <td>1.0</td>\n",
       "      <td>fgymSoTvjKPEgaIJqsiH</td>\n",
       "      <td>cpm</td>\n",
       "      <td>FTjNLDyTrXaWYgZymFkV</td>\n",
       "      <td>yYdBRbPmBMUZHXwqGxNx</td>\n",
       "      <td>desktop</td>\n",
       "      <td>...</td>\n",
       "      <td>Chrome</td>\n",
       "      <td>Russia</td>\n",
       "      <td>Moscow</td>\n",
       "      <td>2021-12-31</td>\n",
       "      <td>3.0</td>\n",
       "      <td>event</td>\n",
       "      <td>sberauto.com/cars/all/mercedes-benz/e-klasse/d...</td>\n",
       "      <td>card_web</td>\n",
       "      <td>view_card</td>\n",
       "      <td>KclpemfoHstknWHFiLit</td>\n",
       "    </tr>\n",
       "    <tr>\n",
       "      <th>15812993</th>\n",
       "      <td>9055430416266113553.1640968742.1640968742</td>\n",
       "      <td>2108381692.1640968</td>\n",
       "      <td>2021-12-31</td>\n",
       "      <td>19:39:02</td>\n",
       "      <td>1.0</td>\n",
       "      <td>fgymSoTvjKPEgaIJqsiH</td>\n",
       "      <td>cpm</td>\n",
       "      <td>FTjNLDyTrXaWYgZymFkV</td>\n",
       "      <td>yYdBRbPmBMUZHXwqGxNx</td>\n",
       "      <td>desktop</td>\n",
       "      <td>...</td>\n",
       "      <td>Chrome</td>\n",
       "      <td>Russia</td>\n",
       "      <td>Moscow</td>\n",
       "      <td>2021-12-31</td>\n",
       "      <td>14.0</td>\n",
       "      <td>event</td>\n",
       "      <td>sberauto.com/cars/all/bmw/3-serii/bde2c9d5?utm...</td>\n",
       "      <td>card_web</td>\n",
       "      <td>view_card</td>\n",
       "      <td>KclpemfoHstknWHFiLit</td>\n",
       "    </tr>\n",
       "    <tr>\n",
       "      <th>15812994</th>\n",
       "      <td>9055430416266113553.1640968742.1640968742</td>\n",
       "      <td>2108381692.1640968</td>\n",
       "      <td>2021-12-31</td>\n",
       "      <td>19:39:02</td>\n",
       "      <td>1.0</td>\n",
       "      <td>fgymSoTvjKPEgaIJqsiH</td>\n",
       "      <td>cpm</td>\n",
       "      <td>FTjNLDyTrXaWYgZymFkV</td>\n",
       "      <td>yYdBRbPmBMUZHXwqGxNx</td>\n",
       "      <td>desktop</td>\n",
       "      <td>...</td>\n",
       "      <td>Chrome</td>\n",
       "      <td>Russia</td>\n",
       "      <td>Moscow</td>\n",
       "      <td>2021-12-31</td>\n",
       "      <td>17.0</td>\n",
       "      <td>event</td>\n",
       "      <td>sberauto.com/cars/all/bmw/3-serii/bde2c9d5?utm...</td>\n",
       "      <td>card_web</td>\n",
       "      <td>view_card</td>\n",
       "      <td>KclpemfoHstknWHFiLit</td>\n",
       "    </tr>\n",
       "  </tbody>\n",
       "</table>\n",
       "<p>15684519 rows × 22 columns</p>\n",
       "</div>"
      ],
      "text/plain": [
       "                                         session_id           client_id  \\\n",
       "0         9055434745589932991.1637753792.1637753792  2108382700.1637757   \n",
       "1         9055434745589932991.1637753792.1637753792  2108382700.1637757   \n",
       "2          905544597018549464.1636867290.1636867290  210838531.16368672   \n",
       "3         9055446045651783499.1640648526.1640648526   2108385331.164065   \n",
       "4         9055446045651783499.1640648526.1640648526   2108385331.164065   \n",
       "...                                             ...                 ...   \n",
       "15812990  9055430416266113553.1640968742.1640968742  2108381692.1640968   \n",
       "15812991  9055430416266113553.1640968742.1640968742  2108381692.1640968   \n",
       "15812992  9055430416266113553.1640968742.1640968742  2108381692.1640968   \n",
       "15812993  9055430416266113553.1640968742.1640968742  2108381692.1640968   \n",
       "15812994  9055430416266113553.1640968742.1640968742  2108381692.1640968   \n",
       "\n",
       "          visit_date visit_time  visit_number            utm_source  \\\n",
       "0         2021-11-24   14:36:32           1.0  ZpYIoDJMcFzVoPFsHGJL   \n",
       "1         2021-11-24   14:36:32           1.0  ZpYIoDJMcFzVoPFsHGJL   \n",
       "2         2021-11-14   08:21:30           1.0  MvfHsxITijuriZxsqZqt   \n",
       "3         2021-12-28   02:42:06           1.0  ZpYIoDJMcFzVoPFsHGJL   \n",
       "4         2021-12-28   02:42:06           1.0  ZpYIoDJMcFzVoPFsHGJL   \n",
       "...              ...        ...           ...                   ...   \n",
       "15812990  2021-12-31   19:39:02           1.0  fgymSoTvjKPEgaIJqsiH   \n",
       "15812991  2021-12-31   19:39:02           1.0  fgymSoTvjKPEgaIJqsiH   \n",
       "15812992  2021-12-31   19:39:02           1.0  fgymSoTvjKPEgaIJqsiH   \n",
       "15812993  2021-12-31   19:39:02           1.0  fgymSoTvjKPEgaIJqsiH   \n",
       "15812994  2021-12-31   19:39:02           1.0  fgymSoTvjKPEgaIJqsiH   \n",
       "\n",
       "         utm_medium          utm_campaign         utm_adcontent  \\\n",
       "0            banner  LEoPHuyFvzoNfnzGgfcd  vCIpmpaGBnIQhyYNkXqp   \n",
       "1            banner  LEoPHuyFvzoNfnzGgfcd  vCIpmpaGBnIQhyYNkXqp   \n",
       "2               cpm  FTjNLDyTrXaWYgZymFkV  xhoenQgDQsgfEPYNPwKO   \n",
       "3            banner  LEoPHuyFvzoNfnzGgfcd  vCIpmpaGBnIQhyYNkXqp   \n",
       "4            banner  LEoPHuyFvzoNfnzGgfcd  vCIpmpaGBnIQhyYNkXqp   \n",
       "...             ...                   ...                   ...   \n",
       "15812990        cpm  FTjNLDyTrXaWYgZymFkV  yYdBRbPmBMUZHXwqGxNx   \n",
       "15812991        cpm  FTjNLDyTrXaWYgZymFkV  yYdBRbPmBMUZHXwqGxNx   \n",
       "15812992        cpm  FTjNLDyTrXaWYgZymFkV  yYdBRbPmBMUZHXwqGxNx   \n",
       "15812993        cpm  FTjNLDyTrXaWYgZymFkV  yYdBRbPmBMUZHXwqGxNx   \n",
       "15812994        cpm  FTjNLDyTrXaWYgZymFkV  yYdBRbPmBMUZHXwqGxNx   \n",
       "\n",
       "         device_category  ...    device_browser geo_country     geo_city  \\\n",
       "0                 mobile  ...            Chrome      Russia     Zlatoust   \n",
       "1                 mobile  ...            Chrome      Russia     Zlatoust   \n",
       "2                 mobile  ...  Samsung Internet      Russia       Moscow   \n",
       "3                 mobile  ...            Chrome      Russia  Krasnoyarsk   \n",
       "4                 mobile  ...            Chrome      Russia  Krasnoyarsk   \n",
       "...                  ...  ...               ...         ...          ...   \n",
       "15812990         desktop  ...            Chrome      Russia       Moscow   \n",
       "15812991         desktop  ...            Chrome      Russia       Moscow   \n",
       "15812992         desktop  ...            Chrome      Russia       Moscow   \n",
       "15812993         desktop  ...            Chrome      Russia       Moscow   \n",
       "15812994         desktop  ...            Chrome      Russia       Moscow   \n",
       "\n",
       "            hit_date hit_number hit_type  \\\n",
       "0         2021-11-24        3.0    event   \n",
       "1         2021-11-24        4.0    event   \n",
       "2         2021-11-14        3.0    event   \n",
       "3         2021-12-28       10.0    event   \n",
       "4         2021-12-28       13.0    event   \n",
       "...              ...        ...      ...   \n",
       "15812990  2021-12-31       11.0    event   \n",
       "15812991  2021-12-31       16.0    event   \n",
       "15812992  2021-12-31        3.0    event   \n",
       "15812993  2021-12-31       14.0    event   \n",
       "15812994  2021-12-31       17.0    event   \n",
       "\n",
       "                                              hit_page_path    event_category  \\\n",
       "0                                    podpiska.sberauto.com/     sub_page_view   \n",
       "1                                    podpiska.sberauto.com/  sub_button_click   \n",
       "2                                    podpiska.sberauto.com/     sub_page_view   \n",
       "3         sberauto.com/cars?utm_source_initial=sbol&utm_...       search_form   \n",
       "4         sberauto.com/cars?utm_source_initial=sbol&utm_...       search_form   \n",
       "...                                                     ...               ...   \n",
       "15812990  sberauto.com/cars/all/bmw/3-serii/bde2c9d5?utm...          card_web   \n",
       "15812991  sberauto.com/cars/all/bmw/3-serii/bde2c9d5?utm...          card_web   \n",
       "15812992  sberauto.com/cars/all/mercedes-benz/e-klasse/d...          card_web   \n",
       "15812993  sberauto.com/cars/all/bmw/3-serii/bde2c9d5?utm...          card_web   \n",
       "15812994  sberauto.com/cars/all/bmw/3-serii/bde2c9d5?utm...          card_web   \n",
       "\n",
       "                 event_action           event_label  \n",
       "0                 sub_landing  KclpemfoHstknWHFiLit  \n",
       "1         sub_view_cars_click  vodKSlUobUWTVlgsJqdI  \n",
       "2                 sub_landing  KclpemfoHstknWHFiLit  \n",
       "3          search_form_region  KWTCzSIXzoqUWjfUQMgP  \n",
       "4          search_form_region  CBqnBQaKoQUyWJhLcxxN  \n",
       "...                       ...                   ...  \n",
       "15812990            view_card  KclpemfoHstknWHFiLit  \n",
       "15812991        view_new_card  KclpemfoHstknWHFiLit  \n",
       "15812992            view_card  KclpemfoHstknWHFiLit  \n",
       "15812993            view_card  KclpemfoHstknWHFiLit  \n",
       "15812994            view_card  KclpemfoHstknWHFiLit  \n",
       "\n",
       "[15684519 rows x 22 columns]"
      ]
     },
     "execution_count": 24,
     "metadata": {},
     "output_type": "execute_result"
    }
   ],
   "source": [
    "# Удаляем и корректируем пропуски в Датасете\n",
    "clean_columns_rows(df,\n",
    "                   col_col_df=columns_columns_delete,\n",
    "                   col_row_df=columns_rows_delete,\n",
    "                   col_cell_val_top=columns_value_top,\n",
    "                   col_cell_val_top_corr=columns_value_top_correlation)"
   ]
  },
  {
   "cell_type": "code",
   "execution_count": 26,
   "id": "35b9a3a0",
   "metadata": {
    "ExecuteTime": {
     "end_time": "2023-01-13T22:33:09.711119Z",
     "start_time": "2023-01-13T22:31:59.769111Z"
    }
   },
   "outputs": [],
   "source": [
    "# Удаляем дубликаты даннных в Датасете\n",
    "df.drop_duplicates(inplace=)"
   ]
  },
  {
   "cell_type": "code",
   "execution_count": 28,
   "id": "fd161447",
   "metadata": {
    "ExecuteTime": {
     "end_time": "2023-01-13T22:42:43.141831Z",
     "start_time": "2023-01-13T22:42:43.133660Z"
    }
   },
   "outputs": [
    {
     "data": {
      "text/plain": [
       "(15854246, 28)"
      ]
     },
     "execution_count": 28,
     "metadata": {},
     "output_type": "execute_result"
    }
   ],
   "source": [
    "df.shape"
   ]
  },
  {
   "cell_type": "markdown",
   "id": "120b9b9d",
   "metadata": {},
   "source": [
    "**Вывод.**  \n",
    "Проведена следующая коррекция Датасета:\n",
    "- удалены 6 колонок, в которых пропущено более 40% данных;\n",
    "- удалён 1,1% записей, в атрибутах которых изначально отсутсвовали значения;\n",
    "- удалён 1,4% записей, которые дублировали другие записи;\n",
    "- в 6 колонках заменены пропущенные значения на наиболее часто встречающиеся значения:\n",
    " - в 5 колонках простым поиском значений, наиболее часто встречающихся в данной колонке,\n",
    " - в 1 колонке поиском значений в зависимости от значений другого столбца."
   ]
  },
  {
   "cell_type": "markdown",
   "id": "c9733b3b",
   "metadata": {},
   "source": [
    "  "
   ]
  }
 ],
 "metadata": {
  "kernelspec": {
   "display_name": "Python 3 (ipykernel)",
   "language": "python",
   "name": "python3"
  },
  "language_info": {
   "codemirror_mode": {
    "name": "ipython",
    "version": 3
   },
   "file_extension": ".py",
   "mimetype": "text/x-python",
   "name": "python",
   "nbconvert_exporter": "python",
   "pygments_lexer": "ipython3",
   "version": "3.9.13"
  },
  "toc": {
   "base_numbering": 1,
   "nav_menu": {},
   "number_sections": false,
   "sideBar": true,
   "skip_h1_title": false,
   "title_cell": "СОДЕРЖАНИЕ",
   "title_sidebar": "СОДЕРЖАНИЕ",
   "toc_cell": true,
   "toc_position": {},
   "toc_section_display": false,
   "toc_window_display": false
  },
  "varInspector": {
   "cols": {
    "lenName": 16,
    "lenType": 16,
    "lenVar": 40
   },
   "kernels_config": {
    "python": {
     "delete_cmd_postfix": "",
     "delete_cmd_prefix": "del ",
     "library": "var_list.py",
     "varRefreshCmd": "print(var_dic_list())"
    },
    "r": {
     "delete_cmd_postfix": ") ",
     "delete_cmd_prefix": "rm(",
     "library": "var_list.r",
     "varRefreshCmd": "cat(var_dic_list()) "
    }
   },
   "types_to_exclude": [
    "module",
    "function",
    "builtin_function_or_method",
    "instance",
    "_Feature"
   ],
   "window_display": false
  }
 },
 "nbformat": 4,
 "nbformat_minor": 5
}
