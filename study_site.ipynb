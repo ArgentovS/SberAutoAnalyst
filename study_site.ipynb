{
 "cells": [
  {
   "cell_type": "markdown",
   "id": "2817da4d",
   "metadata": {
    "ExecuteTime": {
     "end_time": "2022-12-31T15:59:22.244333Z",
     "start_time": "2022-12-31T15:59:22.117439Z"
    },
    "cell_style": "split"
   },
   "source": [
    "![](Pictures/Start_notebook.png)"
   ]
  },
  {
   "cell_type": "markdown",
   "id": "eca4fb08",
   "metadata": {
    "cell_style": "split"
   },
   "source": [
    "<b>  </b>  \n",
    "<b>  </b>  \n",
    "Ноутбук от 23.12.22 \n",
    "<b>  </b>  \n",
    "<b>  </b>  \n",
    "<b>  </b>  \n",
    "<b>  </b>  \n",
    "<b>  </b>  \n",
    "<b>  </b>  \n",
    "<b>  </b>   \n",
    "_финальная работа \"Data Science\"_  \n",
    "_специальность: Data Analist_  \n",
    "\n",
    "Выполнено:  \n",
    "Аргентов Сергей, г.Липецк  \n",
    "https://argentov.pro\n",
    "<b>  </b>  \n",
    "<b>  </b>  "
   ]
  },
  {
   "cell_type": "markdown",
   "id": "0851ee33",
   "metadata": {
    "toc": true
   },
   "source": [
    "<h1>СОДЕРЖАНИЕ<span class=\"tocSkip\"></span></h1>\n",
    "<div class=\"toc\"><ul class=\"toc-item\"><li><span><a href=\"#1.-Загрузка-библиотек-и-написание-вспомогательных-функций\" data-toc-modified-id=\"1.-Загрузка-библиотек-и-написание-вспомогательных-функций-1\">1. Загрузка библиотек и написание вспомогательных функций</a></span></li><li><span><a href=\"#2.-Знакомство-с-данными-(Data-Uderstanding)\" data-toc-modified-id=\"2.-Знакомство-с-данными-(Data-Uderstanding)-2\">2. Знакомство с данными (Data Uderstanding)</a></span><ul class=\"toc-item\"><li><span><a href=\"#2.1.-Описание-элементов-решаемой-задачи\" data-toc-modified-id=\"2.1.-Описание-элементов-решаемой-задачи-2.1\">2.1. Описание элементов решаемой задачи</a></span><ul class=\"toc-item\"><li><span><a href=\"#2.1.1.-Описание-атрибутов-исходных-Датасетов\" data-toc-modified-id=\"2.1.1.-Описание-атрибутов-исходных-Датасетов-2.1.1\">2.1.1. Описание атрибутов исходных Датасетов</a></span></li><li><span><a href=\"#2.1.2.-Описание-заданных-бизнес-связей-между-атрибутами-Датасетов\" data-toc-modified-id=\"2.1.2.-Описание-заданных-бизнес-связей-между-атрибутами-Датасетов-2.1.2\">2.1.2. Описание заданных бизнес-связей между атрибутами Датасетов</a></span></li><li><span><a href=\"#2.1.3.-Задачи-исследования\" data-toc-modified-id=\"2.1.3.-Задачи-исследования-2.1.3\">2.1.3. Задачи исследования</a></span></li></ul></li><li><span><a href=\"#2.1.-Загрузка-и-описание-данных-о-визитах-и-событиях\" data-toc-modified-id=\"2.1.-Загрузка-и-описание-данных-о-визитах-и-событиях-2.2\">2.1. Загрузка и описание данных о визитах и событиях</a></span></li><li><span><a href=\"#2.2.-Проверка-полей-Датасетов-на-соответствие-типов-в-каждом-поле\" data-toc-modified-id=\"2.2.-Проверка-полей-Датасетов-на-соответствие-типов-в-каждом-поле-2.3\">2.2. Проверка полей Датасетов на соответствие типов в каждом поле</a></span></li><li><span><a href=\"#2.3.-Описание-атрибутов-Датасетов,-формирование-единого-Датасета\" data-toc-modified-id=\"2.3.-Описание-атрибутов-Датасетов,-формирование-единого-Датасета-2.4\">2.3. Описание атрибутов Датасетов, формирование единого Датасета</a></span></li></ul></li><li><span><a href=\"#3.-Отчистка-и-коррекция-данных-(Data-Preparation)\" data-toc-modified-id=\"3.-Отчистка-и-коррекция-данных-(Data-Preparation)-3\">3. Отчистка и коррекция данных (Data-Preparation)</a></span><ul class=\"toc-item\"><li><span><a href=\"#3.1.-Проверка-и-коррекция-ошибочного-написания-уникальных-значений-в-Датасете\" data-toc-modified-id=\"3.1.-Проверка-и-коррекция-ошибочного-написания-уникальных-значений-в-Датасете-3.1\">3.1. Проверка и коррекция ошибочного написания уникальных значений в Датасете</a></span></li><li><span><a href=\"#3.2.-Проверка-и-коррекция-пустых-значений-в-Датасете\" data-toc-modified-id=\"3.2.-Проверка-и-коррекция-пустых-значений-в-Датасете-3.2\">3.2. Проверка и коррекция пустых значений в Датасете</a></span></li></ul></li></ul></div>"
   ]
  },
  {
   "cell_type": "markdown",
   "id": "30987cdd",
   "metadata": {},
   "source": [
    "  "
   ]
  },
  {
   "cell_type": "markdown",
   "id": "645f089d",
   "metadata": {},
   "source": [
    "# 1. Загрузка библиотек и написание вспомогательных функций"
   ]
  },
  {
   "cell_type": "code",
   "execution_count": 1,
   "id": "d7d44009",
   "metadata": {
    "ExecuteTime": {
     "end_time": "2023-01-13T19:32:23.623400Z",
     "start_time": "2023-01-13T19:32:21.422905Z"
    },
    "code_folding": [
     0
    ]
   },
   "outputs": [],
   "source": [
    "## Загрузка библиотек\n",
    "import os\n",
    "import pandas as pd\n",
    "import datetime as dt\n",
    "import missingno as msno"
   ]
  },
  {
   "cell_type": "code",
   "execution_count": 2,
   "id": "5f32c5d0",
   "metadata": {
    "ExecuteTime": {
     "end_time": "2023-01-13T19:32:23.665372Z",
     "start_time": "2023-01-13T19:32:23.639186Z"
    },
    "code_folding": [
     0,
     3,
     21,
     56,
     74,
     106,
     125
    ]
   },
   "outputs": [],
   "source": [
    "## Подготовка вспомогательных функций, используемых в исследовании\n",
    "\n",
    "### Функция загрузки датасета и определения характеристик источника данных\n",
    "def file_info(df, file_path):\n",
    "    \"\"\"\n",
    "    Функция описывает файл источник для загруженного датасета\n",
    "    \n",
    "        Параметры:\n",
    "            df (DataFrame): загруженный датасет\n",
    "            file_path (sgr): отрносительнрый путь к файлу с датасетом\n",
    "        Выходные параметры (None)\n",
    "    \n",
    "    \"\"\"\n",
    "    print(f'\\nИсточником данных является файл: {file_path[8:]}'\n",
    "          f'\\nРазмер файла {os.stat(file_path).st_size} байт'\n",
    "          f'\\nВ файле содержится 1 таблица:'\n",
    "          f'\\n  - количество строк: {df.shape[0]}'\n",
    "          f'\\n  - количество столбцов: {df.shape[1]}')\n",
    "\n",
    "\n",
    "### Функция проверки всех колонок Датасета на единство типа данных в колонке\n",
    "def checking_type_error(df):\n",
    "    \"\"\"\n",
    "    Функция проверяет каждое поле датасета на несовпадение типов данных и выводит поля с указанием количества записей разных типов\n",
    "    \n",
    "        Параметры:\n",
    "            df (DataFrame): проверяемый датасет\n",
    "        Выходные параметры:\n",
    "            columns_noncorrect_types (list): список полей датасета, в каждом из которых найдены разные типы данных\n",
    "    \n",
    "    \"\"\"\n",
    "    flagCorrect = True\n",
    "    columns_noncorrect_types = []\n",
    "    for elem in df.columns:\n",
    "        df_type = df[elem].apply(lambda x: type(x)).value_counts().to_frame()\n",
    "        if len(df_type) > 1:\n",
    "            columns_noncorrect_types.append(elem)\n",
    "            if flagCorrect:\n",
    "                print('Обнаружены данные разного типа в поле одного атрибута')\n",
    "                print(' ------------------------------------------------------------ ')\n",
    "                print('|  НАИМЕНОВАНИЕ ПОЛЯ  |  ТИП ДАННЫХ  |   КОЛИЧЕСТВО ЗАПИСЕЙ  |')\n",
    "                print(' ------------------------------------------------------------ ')\n",
    "            flagCorrect = False\n",
    "            \n",
    "            for i in range(len(df_type)):\n",
    "                print('   ', df_type.columns[0], ' ' * (21 - len(df_type.columns[0])),\n",
    "                      str(df_type.index[i])[7:-1], ' ' * (21 - len(str(df_type.index[i])[7:-1])),\n",
    "                      str(df_type[df_type.columns[0]].values[i]))\n",
    "            print(' ------------------------------------------------------------ ')\n",
    "    if flagCorrect:\n",
    "        print('Полей с разными типами данных в одном атрибуте не обнаружено!')\n",
    "    \n",
    "    return columns_noncorrect_types\n",
    "\n",
    "\n",
    "### Функция изменения типа данных с 'float' на 'str'\n",
    "def correct_type(df, noncorrect_columns):\n",
    "    \"\"\"\n",
    "    Функция изменяет типы данных на 'str' в заданных полях датасета\n",
    "    \n",
    "        Параметры:\n",
    "            df (DataFrame): датасет, в котором корректируются типы данных полей\n",
    "            noncorrect_columns (list): список полей датасета, в которых функция корректирует тип данных\n",
    "        Выходные параметры (None)\n",
    "        \n",
    "    \"\"\"\n",
    "    for elem in noncorrect_columns:\n",
    "        df[elem] = df[elem].apply(lambda x: str(x))\n",
    "    print(f'Коррекция датасета завершена в {len(noncorrect_columns)} колонках')\n",
    "    print('... запущена перепроверка отсутствия разных типов данных ... ')\n",
    "    checking_type_error(df)\n",
    "\n",
    "\n",
    "## Функция проверки наличия незаполненных значений в колоноках датасета\n",
    "def data_set_audit(df):\n",
    "    \"\"\"\n",
    "    Функция проверяет пропуски в Датасете и выводит для каждого поля долю пропусков в % от общего количесвтва записей\n",
    "    \n",
    "        Параметры:\n",
    "            df (DataFrame): датасет, в котором проверяются пропуски\n",
    "        Выходные параметры (None)\n",
    "        \n",
    "    \"\"\"\n",
    "    print('Размер анализируемого Датасета:', df.shape)\n",
    "    nan_columns = [(elem, df[elem].isna().sum(), type(df.loc[0, elem]))\n",
    "                   for elem in df.columns\n",
    "                   if df[elem].isnull().describe()[1] > 1 or\n",
    "                   df[elem].isnull().describe()[1] == 1 and\n",
    "                   df[elem].isnull()[0] == True]\n",
    "    if len(nan_columns) > 0:\n",
    "        print('ПРОПУСКИ  В  КОЛОНКАХ  ДАТАСЕТА')\n",
    "        print('========================================================================')\n",
    "        print('  Поле                        Пропуски             Тип данных в колонке ')\n",
    "        print('                           (кол-во,      %)                             ')\n",
    "        print('------------------------------------------------------------------------')\n",
    "        for elem in nan_columns:\n",
    "            print(' ', elem[0],\n",
    "                  ' ' * (24 - len(elem[0])), elem[1],\n",
    "                  ' ' * (9 - len(str(elem[1]))), round((elem[1] / len(df) * 100), 2),\n",
    "                  ' ' * 12, str(elem[2])[7:-1])\n",
    "        print('========================================================================')\n",
    "    else:\n",
    "        print('Пропущенных данных в Датасете не обнаружено!')\n",
    "\n",
    "\n",
    "## Функция вывода на экран уникальных значений выранных атрибутов Датасета\n",
    "def print_unique(df, attributes):\n",
    "    \"\"\"\n",
    "    Функция выводит на экран уникальный набор значений в зананном наборе колонок датасета\n",
    "    \n",
    "        Параметры:\n",
    "            df (DataFrame): датасет, который обрабатывает функция\n",
    "            attributes (list): список колонок, которые которые обрабатывает функция в датасете\n",
    "        Выходные параметры (None)\n",
    "        \n",
    "    \"\"\"\n",
    "    for category in attributes:\n",
    "        print ('-' * 12)\n",
    "        print(f'В атрибуте: {category} - {df[category].nunique()} значений')\n",
    "        ls = [elem for elem in df[category].unique() if isinstance(elem, str)]\n",
    "        ls.sort()\n",
    "        print(ls)\n",
    "\n",
    "\n",
    "## Функция отчистки столбцов и строк от нулевых значений\n",
    "def clean_columns_rows(df, col_col_df, col_row_df,\\\n",
    "                       col_cell_val_top, col_cell_val_top_corr):\n",
    "    \"\"\"\n",
    "    Функция удаляет заданные столбы. Затем функция удаляет строки, в которых есть пропущеные данные \n",
    "    \n",
    "        Параметры:\n",
    "            df (DataFrame): датасет, в котором удаляются столбы, затем проверяются пропуски и удаляют соответвующие строки\n",
    "            col_col_df (list): список колонок, которые необходимо удалить.\n",
    "            col_row_df (list): списко колонок, при наличии пропусках в которых - необходимо удалить строки.\n",
    "            col_cell_val_top (list): список колонок, в которых необходимо замеить пропуски простым выбором наиболее часто встречающихся значений.\n",
    "            col_cell_val_top_corr (list(typle)): списко кортежей, в которых указываются родительские и дочернии колонки для подбора наиболее часто встречающихся значений в дочерней колонке с учтом соответствующего значения в родительской колонке.\n",
    "        Выходные параметры:\n",
    "            df_clear (DataFrame): датасет, отчищенный от пропусков\n",
    "        \n",
    "    \"\"\"\n",
    "    \n",
    "    print('Размер анализируемого Датасета:', df.shape, '\\n')\n",
    "    print('... удаляем колонки, в которых более 40% пропущенных данных ...')\n",
    "    df_drop_nacolumns = df.drop(columns=col_col_df, axis=1) # Удаление колонки 'hit_time'\n",
    "    print('После удаления заданных колонок - размер датасета:', df_drop_nacolumns.shape, '\\n')\n",
    "    \n",
    "    print('... удаляем строки, для которых в колонках менее 1% пропущенных данных ...')\n",
    "    df_clear = df_drop_nacolumns.dropna(subset=col_row_df, axis=0, how='any') # Удаление строк, в которых выявлены пропущенные данные\n",
    "    print('После удаления строк с нулевыми значениями - размер датасета:', df_clear.shape, '\\n')\n",
    "    print(f'Удаление колонок и 1 этап удаления строк с нулевыми данными - завершены\\n')\n",
    "    print('... запущена перепроверка отсутствия нулевых данных ... ')\n",
    "    data_set_audit(df_clear)\n",
    "    \n",
    "    print('... в независимых колонках меняем пропущенные данные на наиболее часто встречающиеся ... ')\n",
    "    for col in col_cell_val_top:\n",
    "        nan_indexes = df_clear[df_clear[col].isnull()].index\n",
    "        df_clear.loc[nan_indexes, col] = df_clear[col].describe().loc['top']\n",
    "    \n",
    "    \n",
    "        \n",
    "    print(f'Первый этап замены пропусков - завершён\\n')\n",
    "    \n",
    "    print('... запущена перепроверка отсутствия нулевых данных ... ')\n",
    "    data_set_audit(df_clear)\n",
    "    \n",
    "    print('\\n')\n",
    "    for column_elem in col_cell_val_top_corr:\n",
    "        parent_column, child_column = column_elem[0], column_elem[1]\n",
    "\n",
    "        # 1. Определяем уникальные значения родительской колонки,\n",
    "        #    имеющие пустые значения в дочерней колонке\n",
    "        columns_non_correct = list(df_clear[parent_column].loc[df_clear[child_column].isnull()].unique())\n",
    "\n",
    "        # 2. заполняем пустоты названиями, встречающимеся чаще всего среди значений\n",
    "        #    дочерней колонки для соответвующего значения родительской колонки Датасета\n",
    "\n",
    "        for col_cor in columns_non_correct:\n",
    "\n",
    "            # Массив индексов пустых значений в дочерней колонке Датасета,\n",
    "            # соответсвующих значению родительской колонки Датасета \n",
    "            index_nan_values = df_clear[child_column].\\\n",
    "                            loc[df_clear[child_column].isnull()].\\\n",
    "                            loc[df_clear[parent_column] == col_cor].index\n",
    "\n",
    "            # Самое часто встречающееся значение в дочерней колонке,\n",
    "            # соответсвущее значению родительской колонки Датасета\n",
    "            top_value = str(df_clear[child_column].\\\n",
    "                            loc[df_clear[child_column].notnull()].\\\n",
    "                            loc[df_clear[parent_column] == col_cor].\\\n",
    "                            describe().top) \n",
    "\n",
    "            if top_value not in [None, 'nan', 'null', 'Nan', 'NaN']:\n",
    "                df_clear.loc[index_nan_values, child_column] = top_value\n",
    "\n",
    "        print('... в зависимых колонках меняем пропуски на самые частые значения ... ')\n",
    "        print(f'Заменена нулевых данных, для которых выявлены наиболее часто встречающиеся значения - завершена\\n')\n",
    "        print('... запущена перепроверка отсутствия нулевых данных ... ')\n",
    "        data_set_audit(df_clear)\n",
    "\n",
    "        print('... удаляем строки, для которых в колонках остались пропущенные данные ...')\n",
    "        df_clear = df_clear.dropna(subset=[child_column], axis=0, how='any') # Удаление строк, в которых выявлены пропущенные данные\n",
    "        print('После удаления строк с нулевыми значениями - размер датасета:', df_clear.shape, '\\n')\n",
    "        print(f'Удаление строк с нулевыми данными - завершено\\n')\n",
    "        print('... запущена перепроверка отсутствия нулевых данных ... ')\n",
    "        data_set_audit(df_clear)\n",
    "    \n",
    "    return df_clear"
   ]
  },
  {
   "cell_type": "markdown",
   "id": "ebbae8f4",
   "metadata": {},
   "source": [
    "  "
   ]
  },
  {
   "cell_type": "markdown",
   "id": "6509aa94",
   "metadata": {
    "cell_style": "center"
   },
   "source": [
    "# 2. Знакомство с данными (Data Uderstanding)"
   ]
  },
  {
   "cell_type": "markdown",
   "id": "314a03d0",
   "metadata": {},
   "source": [
    "## 2.1. Описание элементов решаемой задачи"
   ]
  },
  {
   "cell_type": "markdown",
   "id": "076fdc74",
   "metadata": {},
   "source": [
    "### 2.1.1. Описание атрибутов исходных Датасетов"
   ]
  },
  {
   "cell_type": "markdown",
   "id": "0a58ced7",
   "metadata": {},
   "source": [
    "Атрибуты Датасета визитов {поле, (пример данных), описание}:\n",
    ">`session_id` () — ID визита  \n",
    ">`client_id` () — ID посетителя  \n",
    ">`visit_date` () — дата визита  \n",
    ">`visit_time` () — время визита  \n",
    ">`visit_number` () — порядковый номер визита клиента  \n",
    ">`utm_source` () — канал привлечения  \n",
    ">`utm_medium` () — тип привлечения  \n",
    ">`utm_campaign` () — рекламная кампания  \n",
    ">`utm_keyword` () — ключевое слово  \n",
    ">`device_category` () — тип устройства  \n",
    ">`device_os` () — ОС устройства  \n",
    ">`device_brand` () — марка устройства  \n",
    ">`device_model` () — модель устройства  \n",
    ">`device_screen_resolution` () — разрешение экрана  \n",
    ">`device_browser` () — браузер  \n",
    ">`geo_country` () — страна  \n",
    ">`geo_city` () — город"
   ]
  },
  {
   "cell_type": "markdown",
   "id": "d8102358",
   "metadata": {},
   "source": [
    "Атрибуты Датасета событий {поле, (пример данных), описание}:\n",
    ">`session_id` — () ID визита  \n",
    ">`hit_date` — () дата события  \n",
    ">`hit_time` — () время события  \n",
    ">`hit_number` — () порядковый номер события в рамках сессии  \n",
    ">`hit_type` — () тип события  \n",
    ">`hit_referer` — () источник события  \n",
    ">`hit_page_path` — () страница события  \n",
    ">`event_category` — () тип действия  \n",
    ">`event_action` — () действие  \n",
    ">`event_label` — () тег действия  \n",
    ">`event_value` — () значение результата действия"
   ]
  },
  {
   "cell_type": "markdown",
   "id": "cb26a52d",
   "metadata": {},
   "source": [
    "  "
   ]
  },
  {
   "cell_type": "markdown",
   "id": "80e1489d",
   "metadata": {},
   "source": [
    "### 2.1.2. Описание заданных бизнес-связей между атрибутами Датасетов"
   ]
  },
  {
   "cell_type": "markdown",
   "id": "4f4c838c",
   "metadata": {},
   "source": [
    "**Целевое действие — события типа «Оставить заявку» и «Заказать звонок»**  \n",
    "`ga_hits.event_action` принимает одно из следующих значений  \n",
    "['sub_car_claim_click', 'sub_car_claim_submit_click', 'sub_open_dialog_click', 'sub_custom_question_submit_click', 'sub_call_number_click', 'sub_callback_submit_click', 'sub_submit_success', 'sub_car_request_submit_click']"
   ]
  },
  {
   "cell_type": "markdown",
   "id": "d0fa12c5",
   "metadata": {},
   "source": [
    "**CR (Conversion Rate) — показатель конверсии** из визита (уникальный `session_id`) в любое целевое действие в рамках одного визита. В случае наличия более одного целевого действия — считать все действия как одно."
   ]
  },
  {
   "cell_type": "markdown",
   "id": "e03f5717",
   "metadata": {},
   "source": [
    "**Органический трафик — все визиты, в которых:**  \n",
    "`ga_sessions.utm_medium` принимает одно из следующих значений ['organic', 'referral', '(none)']  \n",
    "**Платный трафик — весь неорганический трафик**"
   ]
  },
  {
   "cell_type": "markdown",
   "id": "0d3f6573",
   "metadata": {},
   "source": [
    "**Информация про марку и модель автомобиля** содержится в `ga_hits.hit_page_path`"
   ]
  },
  {
   "cell_type": "markdown",
   "id": "61810ad0",
   "metadata": {},
   "source": [
    "**Реклама в социальных сетях — все визиты в которых:**  \n",
    "`с ga_sessions.utm_source` принимает одно из следующих значений:  \n",
    "['QxAxdyPLuQMEcrdZWdWb', 'MvfHsxITijuriZxsqZqt', 'ISrKoXQCxqqYvAZICvjs', 'IZEXUFLARCUMynmHNBGo', 'PlbkrSYoHuZBWfYjYnfw', 'gVRrcxiDQubJiljoTbGm']"
   ]
  },
  {
   "cell_type": "markdown",
   "id": "a14416b5",
   "metadata": {},
   "source": [
    "  "
   ]
  },
  {
   "cell_type": "markdown",
   "id": "85a1c576",
   "metadata": {},
   "source": [
    "### 2.1.3. Задачи исследования"
   ]
  },
  {
   "cell_type": "markdown",
   "id": "affbb065",
   "metadata": {},
   "source": [
    "**1. ПРОВЕРИТЬ ГИПОТИЗУ: Органический трафик не отличается от платного с точки зрения CR (Conversion Rate) в целевые события.**"
   ]
  },
  {
   "cell_type": "markdown",
   "id": "784c8c42",
   "metadata": {},
   "source": [
    "**2. ПРОВЕРИТЬ ГИПОТИЗУ: Трафик с мобильных устройств не отличается от трафика\n",
    "с десктопных устройств с точки зрения CR (Conversion Rate) в целевые события.**"
   ]
  },
  {
   "cell_type": "markdown",
   "id": "083cebe0",
   "metadata": {},
   "source": [
    "**3. ПРОВЕРИТЬ ГИПОТИЗУ: Трафик из городов присутствия (Москва и область, Санкт-Петербург) не отличается от трафика из иных регионов с точки зрения CR (Conversion Rate) в целевые события.**"
   ]
  },
  {
   "cell_type": "markdown",
   "id": "9c819311",
   "metadata": {},
   "source": [
    "**4. ОТВЕТИТЬ НА ВОПРОС: Из каких источников / кампаний / устройств / локаций к нам идёт самый целевой трафик (и с точки зрения объёма трафика, и с точки зрения CR)?**"
   ]
  },
  {
   "cell_type": "markdown",
   "id": "87314cf8",
   "metadata": {},
   "source": [
    "**5. ОТВЕТИТЬ НА ВОПРОС: Какие авто пользуются наибольшим спросом? У каких авто самый лучший показатель CR (Conversion Rate) в целевые события?**"
   ]
  },
  {
   "cell_type": "markdown",
   "id": "3d1187da",
   "metadata": {},
   "source": [
    "**6. ОТВЕТИТЬ НА ВОПРОС: Стоит ли нам увеличивать своё присутствие в соцсетях и давать там больше рекламы?**"
   ]
  },
  {
   "cell_type": "markdown",
   "id": "5c99ef9c",
   "metadata": {},
   "source": [
    "  "
   ]
  },
  {
   "cell_type": "markdown",
   "id": "fedbb64a",
   "metadata": {},
   "source": [
    "## 2.1. Загрузка и описание данных о визитах и событиях"
   ]
  },
  {
   "cell_type": "code",
   "execution_count": null,
   "id": "6e6c6593",
   "metadata": {},
   "outputs": [],
   "source": []
  },
  {
   "cell_type": "code",
   "execution_count": 3,
   "id": "0bf94fb6",
   "metadata": {
    "ExecuteTime": {
     "end_time": "2023-01-13T19:32:44.090464Z",
     "start_time": "2023-01-13T19:32:38.201424Z"
    },
    "cell_style": "center",
    "code_folding": [
     0
    ],
    "scrolled": false
   },
   "outputs": [
    {
     "name": "stderr",
     "output_type": "stream",
     "text": [
      "/var/folders/5h/1vkpjwr90l19cmzfgsfrcpvm0000gn/T/ipykernel_2301/2724945088.py:3: DtypeWarning: Columns (1) have mixed types. Specify dtype option on import or set low_memory=False.\n",
      "  df_sessions = pd.read_csv(file_path_sessions)\n"
     ]
    }
   ],
   "source": [
    "## Загрузка Датасета визитов, зарегистрированных на сайте СберАвтоподписка\n",
    "file_path_sessions = '../Data/ga_sessions.csv'\n",
    "df_sessions = pd.read_csv(file_path_sessions)"
   ]
  },
  {
   "cell_type": "code",
   "execution_count": 4,
   "id": "89c12b47",
   "metadata": {
    "ExecuteTime": {
     "end_time": "2023-01-13T19:33:26.700374Z",
     "start_time": "2023-01-13T19:32:44.140084Z"
    },
    "code_folding": [
     0
    ]
   },
   "outputs": [],
   "source": [
    "## Загрузка Датасета событий, происходящих в рамках визитов на сайте СберАвтоподписка\n",
    "file_path_hits = '../Data/ga_hits.csv'\n",
    "df_hits = pd.read_csv(file_path_hits)"
   ]
  },
  {
   "cell_type": "code",
   "execution_count": 5,
   "id": "9bbf4963",
   "metadata": {
    "ExecuteTime": {
     "end_time": "2023-01-13T19:33:26.768852Z",
     "start_time": "2023-01-13T19:33:26.765103Z"
    },
    "code_folding": []
   },
   "outputs": [
    {
     "name": "stdout",
     "output_type": "stream",
     "text": [
      "Размер Датасета визитов: (1860042, 18)\n",
      "Размер Датасета событий: (15726470, 11)\n"
     ]
    }
   ],
   "source": [
    "# Размеры загруженных Датасетов\n",
    "print('Размер Датасета визитов:', df_sessions.shape)\n",
    "print('Размер Датасета событий:', df_hits.shape)"
   ]
  },
  {
   "cell_type": "code",
   "execution_count": 6,
   "id": "3a8b275f",
   "metadata": {
    "ExecuteTime": {
     "end_time": "2023-01-10T21:18:37.522790Z",
     "start_time": "2023-01-10T21:18:37.520353Z"
    },
    "code_folding": [
     0
    ],
    "scrolled": true
   },
   "outputs": [
    {
     "name": "stdout",
     "output_type": "stream",
     "text": [
      "\n",
      "Источником данных является файл: ga_sessions.csv\n",
      "Размер файла 388066338 байт\n",
      "В файле содержится 1 таблица:\n",
      "  - количество строк: 1860042\n",
      "  - количество столбцов: 18\n",
      "\n",
      "Источником данных является файл: ga_hits.csv\n",
      "Размер файла 4266520100 байт\n",
      "В файле содержится 1 таблица:\n",
      "  - количество строк: 15726470\n",
      "  - количество столбцов: 11\n"
     ]
    }
   ],
   "source": [
    "# Описание источников загруженных Датасетов\n",
    "for elem in [(df_sessions, file_path_sessions), (df_hits, file_path_hits)]:\n",
    "    file_info(elem[0], elem[1])"
   ]
  },
  {
   "cell_type": "markdown",
   "id": "5e1e059f",
   "metadata": {},
   "source": [
    "  "
   ]
  },
  {
   "cell_type": "markdown",
   "id": "3cc50e81",
   "metadata": {},
   "source": [
    "## 2.2. Проверка полей Датасетов на соответствие типов в каждом поле"
   ]
  },
  {
   "cell_type": "code",
   "execution_count": 7,
   "id": "c9f87d74",
   "metadata": {
    "ExecuteTime": {
     "end_time": "2023-01-10T21:18:40.248984Z",
     "start_time": "2023-01-10T21:18:37.543382Z"
    }
   },
   "outputs": [
    {
     "name": "stdout",
     "output_type": "stream",
     "text": [
      "Обнаружены данные разного типа в поле одного атрибута\n",
      " ------------------------------------------------------------ \n",
      "|  НАИМЕНОВАНИЕ ПОЛЯ  |  ТИП ДАННЫХ  |   КОЛИЧЕСТВО ЗАПИСЕЙ  |\n",
      " ------------------------------------------------------------ \n",
      "    client_id              'float'                1597898\n",
      "    client_id              'str'                  262144\n",
      " ------------------------------------------------------------ \n",
      "    utm_source             'str'                  1859945\n",
      "    utm_source             'float'                97\n",
      " ------------------------------------------------------------ \n",
      "    utm_campaign           'str'                  1640439\n",
      "    utm_campaign           'float'                219603\n",
      " ------------------------------------------------------------ \n",
      "    utm_adcontent          'str'                  1524427\n",
      "    utm_adcontent          'float'                335615\n",
      " ------------------------------------------------------------ \n",
      "    utm_keyword            'float'                1082061\n",
      "    utm_keyword            'str'                  777981\n",
      " ------------------------------------------------------------ \n",
      "    device_os              'float'                1070138\n",
      "    device_os              'str'                  789904\n",
      " ------------------------------------------------------------ \n",
      "    device_brand           'str'                  1492864\n",
      "    device_brand           'float'                367178\n",
      " ------------------------------------------------------------ \n",
      "    device_model           'float'                1843704\n",
      "    device_model           'str'                  16338\n",
      " ------------------------------------------------------------ \n"
     ]
    }
   ],
   "source": [
    "# Проверка полей Датасета визитов на наличные разных типов данных в одном поле\n",
    "columns_sessions = checking_type_error(df_sessions)"
   ]
  },
  {
   "cell_type": "code",
   "execution_count": 8,
   "id": "a7036a4a",
   "metadata": {
    "ExecuteTime": {
     "end_time": "2023-01-10T21:18:54.710359Z",
     "start_time": "2023-01-10T21:18:40.267550Z"
    }
   },
   "outputs": [
    {
     "name": "stdout",
     "output_type": "stream",
     "text": [
      "Обнаружены данные разного типа в поле одного атрибута\n",
      " ------------------------------------------------------------ \n",
      "|  НАИМЕНОВАНИЕ ПОЛЯ  |  ТИП ДАННЫХ  |   КОЛИЧЕСТВО ЗАПИСЕЙ  |\n",
      " ------------------------------------------------------------ \n",
      "    hit_referer            'str'                  9451666\n",
      "    hit_referer            'float'                6274804\n",
      " ------------------------------------------------------------ \n",
      "    event_label            'str'                  11966286\n",
      "    event_label            'float'                3760184\n",
      " ------------------------------------------------------------ \n"
     ]
    }
   ],
   "source": [
    "# Проверка полей Датасета событий на наличные разных типов данных в одном поле\n",
    "columns_hits = checking_type_error(df_hits)"
   ]
  },
  {
   "cell_type": "markdown",
   "id": "1c48ba88",
   "metadata": {},
   "source": [
    "**Вывод**:\n",
    "- в таблице Датасета визитов (ga_sessions.csv) есть 8 полей, а в таблице Датасета событий (ga_hits.csv) есть 2 поля, в каждом из которых присутсвуют не одинаковые типы данных. Данные в таких полях являются текстовым описанием свойств визитов и событий. Таким образом, в этих полях можно установить единый тип данных - 'str'."
   ]
  },
  {
   "cell_type": "code",
   "execution_count": 9,
   "id": "72fb7975",
   "metadata": {
    "ExecuteTime": {
     "end_time": "2023-01-10T21:19:00.046941Z",
     "start_time": "2023-01-10T21:18:54.728819Z"
    }
   },
   "outputs": [
    {
     "name": "stdout",
     "output_type": "stream",
     "text": [
      "Коррекция датасета завершена в 8 колонках\n",
      "... запущена перепроверка отсутствия разных типов данных ... \n",
      "Полей с разными типами данных в одном атрибуте не обнаружено!\n"
     ]
    }
   ],
   "source": [
    "# Коррекция типов данных в полях Датасета визитов\n",
    "correct_type(df_sessions, columns_sessions)"
   ]
  },
  {
   "cell_type": "code",
   "execution_count": 10,
   "id": "46bed31a",
   "metadata": {
    "ExecuteTime": {
     "end_time": "2023-01-10T21:19:18.458097Z",
     "start_time": "2023-01-10T21:19:00.065767Z"
    }
   },
   "outputs": [
    {
     "name": "stdout",
     "output_type": "stream",
     "text": [
      "Коррекция датасета завершена в 2 колонках\n",
      "... запущена перепроверка отсутствия разных типов данных ... \n",
      "Полей с разными типами данных в одном атрибуте не обнаружено!\n"
     ]
    }
   ],
   "source": [
    "# Коррекция типов данных в полях Датасета событий\n",
    "correct_type(df_hits, columns_hits)"
   ]
  },
  {
   "cell_type": "markdown",
   "id": "993a8d14",
   "metadata": {},
   "source": [
    "  "
   ]
  },
  {
   "cell_type": "markdown",
   "id": "c7dc7b9f",
   "metadata": {},
   "source": [
    "## 2.3. Описание атрибутов Датасетов, формирование единого Датасета"
   ]
  },
  {
   "cell_type": "markdown",
   "id": "c3ea07d5",
   "metadata": {},
   "source": [
    "**Вывод:**\n",
    "- в таблице Датасета визитов (ga_sessions.csv) первичным ключом является поле `session_id`. В таблице Датасета событий поле `session_id` являтся внешним ключом. Таким образом, для формирования единого Датасета можно объединить таблицы по полю `session_id`."
   ]
  },
  {
   "cell_type": "code",
   "execution_count": 11,
   "id": "fea3ee5f",
   "metadata": {
    "ExecuteTime": {
     "end_time": "2023-01-10T21:19:37.852506Z",
     "start_time": "2023-01-10T21:19:18.478965Z"
    }
   },
   "outputs": [],
   "source": [
    "# Объединение Датасетов по первичному и внешнему ключу\n",
    "df_merge = df_sessions.merge(df_hits, left_on='session_id', right_on='session_id', how='outer')"
   ]
  },
  {
   "cell_type": "code",
   "execution_count": 12,
   "id": "34403ca4",
   "metadata": {
    "ExecuteTime": {
     "end_time": "2023-01-10T21:19:44.560721Z",
     "start_time": "2023-01-10T21:19:44.510314Z"
    }
   },
   "outputs": [],
   "source": [
    "# Очищаем память от неиспользуемых дальше Датасетов (для ускорения вычислений)\n",
    "del df_sessions\n",
    "del df_hits"
   ]
  },
  {
   "cell_type": "markdown",
   "id": "0378453b",
   "metadata": {},
   "source": [
    "  "
   ]
  },
  {
   "cell_type": "markdown",
   "id": "e6ef91fc",
   "metadata": {},
   "source": [
    "# 3. Отчистка и коррекция данных (Data-Preparation)"
   ]
  },
  {
   "cell_type": "markdown",
   "id": "8a32b789",
   "metadata": {},
   "source": [
    "## 3.1. Проверка и коррекция ошибочного написания уникальных значений в Датасете"
   ]
  },
  {
   "cell_type": "code",
   "execution_count": 13,
   "id": "d3fe9de8",
   "metadata": {
    "ExecuteTime": {
     "end_time": "2023-01-10T21:20:02.105229Z",
     "start_time": "2023-01-10T21:19:51.107320Z"
    },
    "code_folding": [],
    "scrolled": false
   },
   "outputs": [
    {
     "name": "stdout",
     "output_type": "stream",
     "text": [
      "------------\n",
      "В атрибуте: utm_medium - 56 значений\n",
      "['(none)', '(not set)', 'CPM', 'Sbol_catalog', 'app', 'article', 'banner', 'blogger_channel', 'blogger_header', 'blogger_stories', 'catalogue', 'cbaafe', 'clicks', 'cpa', 'cpc', 'cpm', 'cpv', 'desktop', 'dom_click', 'email', 'fb_smm', 'google_cpc', 'info_text', 'landing', 'landing_interests', 'last', 'link', 'linktest', 'main_polka', 'medium', 'nkp', 'ok_smm', 'organic', 'outlook', 'partner', 'post', 'promo_sber', 'promo_sbol', 'push', 'qr', 'qrcodevideo', 'reach', 'referral', 'sber_app', 'smartbanner', 'smm', 'sms', 'social', 'static', 'stories', 'tablet', 'tg', 'users_msk', 'vk_smm', 'web_polka', 'yandex_cpc']\n",
      "------------\n",
      "В атрибуте: device_category - 3 значений\n",
      "['desktop', 'mobile', 'tablet']\n",
      "------------\n",
      "В атрибуте: device_os - 14 значений\n",
      "['(not set)', 'Android', 'BlackBerry', 'Chrome OS', 'Firefox OS', 'Linux', 'Macintosh', 'Nokia', 'Samsung', 'Tizen', 'Windows', 'Windows Phone', 'iOS', 'nan']\n",
      "------------\n",
      "В атрибуте: device_brand - 206 значений\n",
      "['(not set)', 'A1', 'AGM', 'AT&T', 'Acer', 'Advan', 'Alcatel', 'Alldocube', 'Amazon', 'Ananda', 'Apple', 'Archos', 'Ark', 'Artel', 'Asus', 'BLU', 'BLUBOO', 'BQ', 'Beelink', 'Billion', 'Black Fox', 'BlackBerry', 'Blackview', 'CAT', 'Caterpillar', 'Celkon', 'Centric', 'China Mobile', 'China Phone', 'China TVBox', 'Chuwi', 'Condor', 'Coolpad', 'Corn', 'Cube', 'Cubot', 'DEXP', 'DOOGEE', 'Dark', 'Dell', 'Digiland', 'Digma', 'Dragon Touch', 'Dynamic', 'E&L', 'Egreat', 'Elephone', 'Ellipsis', 'Essential', 'Evercoss', 'Evertek', 'Explay', 'FREETEL', 'Fairphone', 'Fero', 'Flexymove', 'Fly', 'Flylion', 'Fujitsu', 'General Mobile', 'Geotel', 'Gigaset', 'Gionee', 'Gome', 'Google', 'Gretel', 'Guophone', 'H96', 'HOMTOM', 'HTC', 'Hafury', 'Haier', 'Highscreen', 'Hisense', 'Honeywell', 'Honor', 'How', 'Huawei', 'INUI', 'InFocus', 'Infinix', 'InnJoo', 'Inoi', 'Irbis', 'Iris', 'Itoos', 'Jiake', 'Jiayu', 'Karbonn', 'Kata', 'Keecoo', 'Ken Xin Da', 'Kenxinda', 'KingSing', 'Kingplay', 'Komu', 'Krip', 'Kyocera', 'LG', 'LTC', 'Land Rover', 'Lava', 'LeEco', 'LeTV', 'Leagoo', 'Leegoog', 'Lenovo', 'M-HORSE', 'MLS', 'MTC', 'MTS', 'MXQ', 'Maxvi', 'Maze', 'MediaTek', 'Meizu', 'Micromax', 'Microsoft', 'Mito', 'Mlais', 'Mobiistar', 'Motive', 'Motorola', 'Mozilla', 'NOA', 'Neffos', 'Nokia', 'Nomi', 'Nomu', 'Nuu', 'OPPO', 'Olla', 'OnePlus', 'Opera', 'Orbic', 'Oukitel', 'Oysters', 'POCO', 'PPTV', 'Panasonic', 'Pantech', 'Philips', 'Poptel', 'Prestigio', 'QMobile', 'Qbex', 'RCA', 'RED', 'Razer', 'Realme', 'Samsung', 'SenseIT', 'Sharp', 'Smarteo', 'Smartfren', 'Smartisan', 'Sonim', 'Sony', 'SonyEricsson', 'Star', 'Symphony', 'T-Mobile', 'TCL', 'TP-Link', 'Tagital', 'Tanix', 'Teclast', 'Tecno', 'Tele2', 'Tesla', 'ThL', 'Tonbux', 'TurboPad', 'UGOOS', 'UMI', 'Ulefone', 'Umidigi', 'Unihertz', 'Verizon', 'Vernee', 'Vertex', 'Vertu', 'Vestel', 'Vivo', 'Vodafone', 'Vsmart', 'Walton', 'Wexler', 'Wieppo', 'Wigor', 'Wiko', 'Wileyfox', 'Wings Mobile', 'Winnovo', 'Xgody', 'Xiaolajiao', 'Xiaomi', 'Yota Devices', 'Yuntab', 'ZOJI', 'ZTE', 'iNew', 'itel', 'myPhone', 'nan', 'teXet']\n",
      "------------\n",
      "В атрибуте: device_browser - 57 значений\n",
      "['(not set)', 'Amazon Silk', 'Android', 'Android Browser', 'Android Runtime', 'Android Webview', 'Chrome', 'Coc Coc', 'Edge', 'Firefox', 'Instagram 158.0.0.30.123 Android', 'Instagram 192.0.0.35.123 Android', 'Instagram 192.0.0.37.119', 'Instagram 194.0.0.36.172 Android', 'Instagram 199.0.0.27.120', 'Instagram 199.1.0.34.119 Android', 'Instagram 201.0.0.23.111', 'Instagram 202.0.0.23.119', 'Instagram 202.0.0.37.123 Android', 'Instagram 203.0.0.26.117', 'Instagram 206.1.0.34.121 Android', 'Instagram 207.0.0.28.118', 'Instagram 208.0.0.26.131', 'Instagram 208.0.0.32.135 Android', 'Instagram 209.0.0.21.119 Android', 'Instagram 212.0.0.38.119 Android', 'Instagram 213.0.0.19.117', 'Instagram 213.0.0.29.120 Android', 'Instagram 216.0.0.12.135', 'Instagram 216.1.0.21.137 Android', 'Internet Explorer', 'Iron', 'Konqueror', 'MRCHROME', 'MT6735_TD', 'Maxthon', 'Mozilla', 'Mozilla Compatible Agent', 'MyApp', 'NetFront', 'Nokia501', 'NokiaX2-02', 'Opera', 'Opera Mini', 'Phantom Browser', 'Puffin', 'Safari', 'Safari (in-app)', 'Samsung Internet', 'SeaMonkey', 'Threads 202.0.0.23.119', 'UC Browser', 'YaBrowser', '[FBAN', 'com.vk.vkclient', 'com.zhiliaoapp.musically', 'helloworld']\n",
      "------------\n",
      "В атрибуте: geo_country - 166 значений\n",
      "['(not set)', 'Afghanistan', 'Albania', 'Algeria', 'Andorra', 'Angola', 'Antigua & Barbuda', 'Argentina', 'Armenia', 'Aruba', 'Australia', 'Austria', 'Azerbaijan', 'Bahrain', 'Bangladesh', 'Barbados', 'Belarus', 'Belgium', 'Bosnia & Herzegovina', 'Brazil', 'Bulgaria', 'Burkina Faso', 'Burundi', 'Cambodia', 'Cameroon', 'Canada', 'Central African Republic', 'Chad', 'Chile', 'China', 'Colombia', 'Congo - Brazzaville', 'Congo - Kinshasa', 'Costa Rica', 'Croatia', 'Cuba', 'Cyprus', 'Czechia', 'Côte d’Ivoire', 'Denmark', 'Dominican Republic', 'Ecuador', 'Egypt', 'Equatorial Guinea', 'Estonia', 'Ethiopia', 'Faroe Islands', 'Fiji', 'Finland', 'France', 'French Guiana', 'Georgia', 'Germany', 'Ghana', 'Gibraltar', 'Greece', 'Guadeloupe', 'Guatemala', 'Guernsey', 'Guinea', 'Haiti', 'Honduras', 'Hong Kong', 'Hungary', 'Iceland', 'India', 'Indonesia', 'Iran', 'Iraq', 'Ireland', 'Israel', 'Italy', 'Japan', 'Jordan', 'Kazakhstan', 'Kenya', 'Kosovo', 'Kuwait', 'Kyrgyzstan', 'Laos', 'Latvia', 'Lebanon', 'Libya', 'Lithuania', 'Luxembourg', 'Madagascar', 'Malawi', 'Malaysia', 'Maldives', 'Mali', 'Malta', 'Mauritius', 'Mexico', 'Moldova', 'Monaco', 'Mongolia', 'Montenegro', 'Morocco', 'Mozambique', 'Myanmar (Burma)', 'Namibia', 'Nepal', 'Netherlands', 'New Caledonia', 'New Zealand', 'Nicaragua', 'Niger', 'Nigeria', 'North Korea', 'North Macedonia', 'Norway', 'Oman', 'Pakistan', 'Palestine', 'Panama', 'Paraguay', 'Peru', 'Philippines', 'Poland', 'Portugal', 'Puerto Rico', 'Qatar', 'Romania', 'Russia', 'Rwanda', 'Réunion', 'Saudi Arabia', 'Senegal', 'Serbia', 'Seychelles', 'Sierra Leone', 'Singapore', 'Slovakia', 'Slovenia', 'Somalia', 'South Africa', 'South Korea', 'South Sudan', 'Spain', 'Sri Lanka', 'Sudan', 'Svalbard & Jan Mayen', 'Sweden', 'Switzerland', 'Syria', 'Taiwan', 'Tajikistan', 'Tanzania', 'Thailand', 'Togo', 'Tunisia', 'Turkey', 'Turkmenistan', 'Uganda', 'Ukraine', 'United Arab Emirates', 'United Kingdom', 'United States', 'Uruguay', 'Uzbekistan', 'Venezuela', 'Vietnam', 'Wallis & Futuna', 'Yemen', 'Zambia', 'Zimbabwe']\n",
      "------------\n",
      "В атрибуте: geo_city - 2548 значений\n",
      "[\"'s-Hertogenbosch\", '(not set)', '10th of Ramadan City', '12214', '13403', '14076', '2233', '24130', '38402', '39404', '4697', '53405', '53425', '59139', '61925', '6784', '6th of October City', '7084', '74565', '75709', '7668', '8161', '8230', '83709', '86039', '8756', '88040', '92323', '9635', '9954', '9992', 'Aachen', 'Aalborg', 'Aalen', 'Aarhus', 'Abakan', 'Abbotsford', 'Aberdeen', 'Abidjan', 'Abu Dhabi', 'Abuja', 'Accra', 'Acharnes', 'Achern', 'Achim', 'Achinsk', 'Acre', 'Adana', 'Addis Ababa', 'Adeje', 'Adelaide', 'Afipsky', 'Afula', 'Agadir', 'Agoi', 'Agra', 'Agri', 'Agueda', 'Ahrensburg', 'Aichach', 'Ajman', 'Aksay', 'Aktobe', 'Al Ain', 'Alajuela', 'Alanya', 'Albion', 'Albufeira', \"Alchevs'k\", 'Alcobendas', 'Aleksandrovsk-Sakhalinskiy', 'Alesund Municipality', 'Alexandria', 'Alexandroupoli', 'Alexandrov', 'Alfortville', 'Alfredo V. Bonfil', 'Alfter', 'Algeciras', 'Alicante', 'Alimos', 'Almaty', 'Almelo', 'Almere', 'Almetyevsk', 'Almhult', 'Alpharetta', 'Altoona', 'Alushta', 'Alytus', 'Alzenau', 'Amadora', 'Ambur', 'Ampang Jaya', 'Amstelveen', 'Amsterdam', 'Amsterdam Airport Schiphol', 'Amstetten', 'Amvrosiivka', 'Anadyr', 'Anaheim', 'Anantapur', 'Anapa', 'Anchorage', 'Ancona', 'Andijan', 'Andorra la Vella', 'Andria', 'Angarsk', 'Angeles', 'Ankara', 'Ann Arbor', 'Annandale', 'Ansan-si', 'Antalya', 'Antananarivo', 'Antelope', 'Antibes', 'Antipolo', 'Antofagasta', 'Antonivka', 'Antony', 'Antratsyt', 'Antwerp', 'Apatity', 'Apex', 'Appenweier', 'Aprelevka', 'Aracaju', 'Aramil', 'Arandjelovac', 'Araure', 'Ardooie', 'Arequipa', 'Argayash', 'Argun', 'Arkhangelsk', 'Arlington', 'Armavir', \"Armyans'k\", 'Arnavutkoy', 'Arnhem', 'Arsenyev', 'Artemovskiy', 'Artyom', 'Arzamas', 'As Municipality', 'Asan-si', 'Asbest', 'Aschaffenburg', 'Ascot', 'Asha', 'Ashburn', 'Ashdod', 'Ashgabat', 'Ashkelon', 'Aspen Hill', 'Astrakhan', 'Asuncion', 'Athens', 'Atlanta', 'Attleboro', 'Atyrau', 'Auckland', 'Aue', 'Augsburg', 'Austin', 'Avanos', 'Avdiivka', 'Aventura', 'Avignon', 'Ayase', 'Azemmour', 'Azov', 'Baarn', 'Babruysk', 'Bacau', 'Bacoor', 'Bad Breisig', 'Bad Neuenahr-Ahrweiler', 'Bad Oldesloe', 'Bad Ragaz', 'Bad Reichenhall', 'Badajoz', 'Badalona', 'Badr City', 'Baerum', 'Baghdad', 'Bagsvaerd', 'Baiersbronn', 'Bakhchysarai', 'Bakhmach', 'Bakhmut', 'Baku', 'Balakhna', 'Balakliya', 'Balakovo', 'Balashikha', 'Balatonfured', 'Balikesir', 'Ballari', 'Ballerup', 'Balti', 'Baltimore', 'Bamako', 'Banbury', 'Bandung', 'Bangkok', 'Bangui', 'Banja Luka', 'Banska Bystrica', 'Bansko', 'Bao Loc', 'Baoding', 'Bar', 'Baranovichi', 'Barcelona', 'Bardhaman', 'Bari', 'Barlinek', 'Barnaul', 'Barnsley', 'Barranquilla', 'Barysaw', 'Basauri', 'Basel', 'Basildon', 'Basingstoke', 'Bat Yam', 'Bataysk', 'Batna', 'Batu Caves', 'Batumi', 'Bautzen', 'Bavly', 'Bayan Lepas', \"Be'er Sheva\", 'Beaver Falls', 'Bedburg', 'Bedford', 'Beijing', 'Beira', 'Beirut', 'Belaya Kalitva', 'Belebey', 'Belfast', 'Belfort', 'Belgorod', 'Belgrade', 'Belleville', 'Bellevue', 'Belo Horizonte', 'Belogorsk', 'Beloozyorskiy', 'Belorechensk', 'Beloretsk', 'Belovo', 'Beloyarsky', 'Bender', 'Bengaluru', 'Benghazi', 'Beni Suef', 'Beni-Mellal', 'Benidorm', 'Benoni', 'Berdsk', \"Berdyans'k\", 'Berdychiv', 'Berea', 'Berezniki', 'Berezovka', 'Bergamo', 'Bergen', 'Bergen Municipality', 'Bergen auf Rugen', 'Berkel en Rodenrijs', 'Berkeley', 'Berlin', 'Bern', 'Bernau bei Berlin', 'Beryozovsky', 'Beslan', 'Best', 'Bethesda', 'Beveren', 'Beziers', 'Bhubaneswar', 'Bialystok', 'Biarritz', 'Biatorbagy', 'Biberach', 'Bielefeld', 'Bielsko-Biala', 'Bien Hoa', 'Bila Tserkva', 'Bilbao', \"Bilhorod-Dnistrovs'kyi\", \"Bilohirs'k\", 'Binfield', 'Birmingham', 'Birobidzhan', 'Birsk', 'Bishkek', 'Bissen', 'Biysk', 'Blackburn', 'Blagoevgrad', 'Blagoveshchensk', 'Blankenfelde-Mahlow', 'Boa Vista', 'Boardman', 'Boblingen', 'Bobo-Dioulasso', 'Bobrovskiy', 'Boca Del Mar', 'Boca Raton', 'Bochum', 'Boden', 'Bodrum', 'Bogolyubovo', 'Bogor', 'Bogota', 'Bohuslav', 'Bolekhiv', 'Bollnas', 'Bologna', 'Bologoye', 'Bolshoy Kamen', 'Bolton', 'Bolzano', 'Bonita Springs', 'Bonn', 'Bootle', 'Boppard', 'Bor', 'Boras', 'Bordeaux', 'Borehamwood', 'Borisoglebsk', 'Bornheim', 'Borovichi', 'Borshchiv', \"Boryspil'\", 'Boston', 'Bottrop', 'Boulogne-Billancourt', 'Bournemouth', 'Bovenkarspel', 'Boves', 'Boyarka', 'Boydton', 'Brackenheim', 'Bracknell', 'Bradford', 'Brandon', 'Brasilia', 'Bratislava', 'Bratsk', 'Brazzaville', 'Bremen', 'Brescia', 'Brest', 'Bretten', 'Bridgeport', 'Bridgewater Township', 'Bridgwater', 'Brighton', 'Brisbane', 'Brixen', 'Brno', 'Brody', 'Brookline', 'Brovary', 'Brownsburg', 'Brunswick', 'Brussels', 'Bryanka', 'Bryansk', 'Bryant', 'Bryukhovetskaya', 'Bucha', 'Bucharest', 'Budapest', 'Budva', 'Budva Municipality', 'Buenos Aires', 'Bujumbura', 'Bukavu', 'Bukhara', 'Bulle', 'Bunde', 'Burbank', 'Buren', 'Burgas', 'Burnaby', 'Bursa', 'Busan', 'Busto Arsizio', 'Buynaksk', 'Bydgoszcz', 'Bytom', 'Cabo San Lucas', 'Cagnes-sur-Mer', 'Cairo', 'Calabasas', 'Calgary', 'Cali', 'Caltanissetta', 'Calw', 'Cam Pha', 'Camberley', 'Cambridge', 'Campinas', 'Campodarsego', 'Canakkale', 'Cancun', 'Cannes', 'Cape Coral', 'Cape Town', 'Caracas', 'Cardiff', 'Carlow', 'Cary', 'Casablanca', 'Casale Monferrato', 'Castelfranco Veneto', 'Castellon de la Plana', 'Catania', 'Catanzaro', 'Cayirova', 'Cebu City', 'Cedarburg', 'Celebration', 'Celle', 'Centurion', 'Cerkezkoy', 'Ceske Budejovice', 'Chalcis', 'Cham', 'Chandigarh', 'Changnyeong-gun', 'Chania', 'Chantilly', 'Charleroi', 'Charleville-Mezieres', 'Charlottesville', 'Chatham', 'Chatou', 'Chattanooga', 'Chebarkul', 'Cheboksary', 'Chegem', 'Chekhov', 'Chelmsford', 'Cheltenham', 'Chelyabinsk', 'Chennai', 'Cherbourg-Octeville', 'Cherepovets', 'Cherkasy', 'Cherkessk', 'Chernihiv', 'Chernivtsi', 'Chernogolovka', 'Chernomorskii', 'Chernyakhovsk', 'Chervonohrad', 'Cheyenne', 'Chicago', 'Chieti', 'Chilgok-gun', 'Chioggia', 'Chipiona', 'Chisinau', 'Chistopol', 'Chita', 'Chiyoda City', 'Chomutov', 'Chongqing', \"Chornomors'ke\", 'Chornomorsk', 'Chortkiv', 'Christchurch', 'Chuhuiv', 'Chuo City', 'Chusovskoye Urban Settlement', 'Chystiakove', 'Cikande', 'Cincinnati', 'Ciney', 'Cinisello Balsamo', 'Cirencester', 'Citrus Heights', 'Citrus Park', 'Ciudad Apodaca', 'Ciudad Nezahualcoyotl', 'Clearwater', 'Clifton', 'Cluj-Napoca', 'Coffeyville', 'Cogolin', 'Coimbatore', 'College Park', 'Cologne', 'Colombo', 'Columbus', 'Como', 'Compiegne', 'Conakry', 'Concord', 'Conroe', 'Constanta', 'Constantine', 'Copenhagen', 'Coquitlam', 'Coral Gables', 'Cordoba', 'Corfu', 'Corinth', 'Cornelius', 'Costa Mesa', 'Courbevoie', \"Cox's Bazar\", 'Crailsheim', 'Crissier', 'Croydon', 'Crum Lynne', 'Crystal Lake', 'Da Nang', 'Dachau', 'Daegu', 'Daejeon', 'Dagestanskie Ogni', 'Dahab', 'Dakar', 'Dallas', 'Dalnegorsk', 'Damascus', 'Damietta', 'Dammam', 'Dana Point', 'Dar es Salaam', 'Dartford', 'Daugavpils', 'Davie', 'Dearborn', \"Debal'tseve\", 'Debrecen', 'Dedovsk', 'Deerfield Beach', 'Dehradun', 'Delft', 'Delhi', 'Delmenhorst', 'Dengkil', 'Denizli', 'Denpasar', 'Denver', 'Depok', 'Derbent', 'Des Moines', 'Desenzano del Garda', 'Detmold', 'Detroit', 'Dhaka', 'Dieppe', 'Dijon', 'Dimitrovgrad', 'Dmitrov', 'Dnipro', 'Dobrich', 'Dobropillya', 'Doha', \"Dokuchajevs'k\", 'Dolgoprudny', 'Dolni Benesov', 'Dolyna', \"Dolyns'ka\", 'Domodedovo', 'Donauworth', 'Donetsk', 'Donostia-San Sebastian', 'Doral', 'Dorokhovskoja', 'Dorsten', 'Dortmund', 'Douala', 'Douglas', 'Dover', 'Dovzhansk', 'Drama', 'Drammen Municipality', 'Dresden', 'Drohobych', 'Dronten', 'Dubai', 'Dublin', 'Dubna', 'Dubovoe', 'Dubrovnik', 'Duderstadt', 'Duisburg', 'Duivendrecht', 'Dunfermline', 'Dunmurry', 'Dunwoody', 'Durant', 'Durban', 'Duren', 'Dushanbe', 'Dusseldorf', 'Dzerzhinsk', 'Dzerzhinsky', 'Dzhankoi', 'Dzyarzhynsk', 'East Northport', 'Ecublens', 'Edewecht', 'Edgartown', 'Edinburgh', 'Egham', 'Ehingen', 'Eichstatt', 'Eindhoven', 'Eislingen', 'Ekero', 'Ekibastuz', 'El Dorado Hills', 'El Jadida', 'El-Mahalla El-Kubra', 'Elche', 'Elektrogorsk', 'Elektrostal', 'Elektrougli', 'Elista', 'Elk Grove Village', 'Elkin', 'Elmshorn', 'Ely', 'Emden', \"Emel'yanovo\", 'Emmen', 'Emmerich', 'Empuriabrava', 'Enem', 'Enerhodar', 'Engels', 'Enschede', 'Entebbe', 'Envigado', 'Epsom', 'Eregli', 'Erfurt', 'Erkrath', 'Erlangen', 'Erzurum', 'Eschborn', 'Eslov', 'Espoo', 'Essaouira', 'Essen', 'Essentuki', 'Esslingen', 'Esvres', 'Etterbeek', 'Ettlingen', 'Eumseong-gun', 'Europoort Rotterdam', 'Euskirchen', 'Exmouth', 'Faiyum', 'Falkensee', 'Famagusta', 'Faridabad', 'Faridpur', 'Farmington Hills', 'Farnham', 'Fastiv', 'Fatima', 'Feodosiya', 'Fergana', 'Fermo', 'Fes', 'Fethiye', 'Filderstadt', 'Fislisbach', 'Five Corners', 'Flensburg', 'Fletcher', 'Florence', 'Florencia', 'Florianopolis', 'Flossmoor', 'Fontainebleau', 'Forchheim', 'Forest', 'Forest City', 'Forestdale', 'Fort Lauderdale', 'Fort Madison', 'Fort Worth', 'Forte dei Marmi', 'Framingham', 'Franca', 'Frankfurt', 'Franklin', 'Frederick', 'Fredrikstad Municipality', 'Freetown', 'Freiburg im Breisgau', 'Freising', 'Fremont', 'Friedberg', 'Friedrichsdorf', 'Friedrichshafen', 'Frisco', 'Frolovo', 'Fryazino', 'Fujairah', 'Fulshear', 'Funchal', 'Fuzhou', 'Gadzhiyevo', 'Gaggenau', 'Gaiduk', 'Galveston', 'Gander', 'Gandia', 'Gangneung-si', 'Garbsen', 'Garmisch-Partenkirchen', 'Gatchina', 'Gateshead', 'Gatineau', 'Gatlinburg', 'Gaziantep', 'Gdansk', 'Geislingen', 'Geldern', 'Gelendzhik', 'Geneva', 'Genoa', 'Gentofte', 'Geoje-si', 'Germantown', 'Germersheim', 'Ghent', 'Gibraltar', 'Gilching', 'Gimhae-si', \"Giv'atayim\", 'Giza', 'Glasgow', 'Glazov', 'Glen Cove', 'Glendale', 'Glenvar Heights', 'Glenwood', 'Gloucester', 'Golcuv Jenikov', 'Golden', 'Golitsyno', 'Gomel', 'Goppingen', 'Gorki-2', 'Gorlitz', 'Gorno-Altaysk', 'Gorodishche', 'Goryachevodsky', 'Gorzow Wielkopolski', 'Gothenburg', 'Goyang-si', 'Goynuk', 'Grand Rapids', 'Granollers', 'Gravesend', 'Graz', 'Greater Landover', 'Greensboro', 'Greven', 'Grevenbroich', 'Greystones', 'Griesheim', 'Griffin', 'Grodno', 'Gronau', 'Gross-Umstadt', 'Grossostheim', 'Grozny', 'Grunheide (Mark)', 'Guadalajara', 'Guangzhou', 'Guatemala City', 'Gudermes', 'Guelph', 'Guildford', 'Guingamp', 'Gurgaon', 'Gursu', 'Gus-Khrustalny', 'Gutersloh', 'Guyancourt', 'Guzelcamli', 'Gwangju', 'Gwangju-si', 'Gyumri', 'Haar', 'Haarlem', 'Hadera', 'Hagenow', 'Haifa', 'Halifax', 'Hallandale Beach', 'Halle', 'Halle (Saale)', 'Halmstad', 'Haman-gun', 'Hamburg', 'Hameenlinna', 'Hamina', 'Hamm', 'Hammamet', 'Hammerfest Municipality', 'Hanau', 'Hanoi', 'Hanover', 'Haparanda', 'Harare', 'Harjavalta', 'Hartola', 'Hartsdale', 'Haskovo', 'Haspra', 'Hastane', 'Havana', 'Havelock-Belmont-Methuen', 'Hayward', 'Hazerswoude-Dorp', 'Hazleton', 'Hedehusene', 'Heidelberg', 'Heidenheim', 'Heilbronn', 'Helmond', 'Helsingborg', 'Helsinki', 'Hemer', 'Hennef', 'Heraklion', 'Herceg Novi', 'Herford', 'Herne', 'Herning', 'Herzliya', 'Heviz', 'Hialeah Gardens', 'High Wycombe', 'Hillsboro', 'Hilo', 'Hilton Head Island', 'Hilversum', 'Hiroshima', 'Hlobyne', 'Hlukhiv', 'Ho Chi Minh City', 'Hofheim', \"Hola Prystan'\", 'Hollywood', 'Holon', 'Holubivka', 'Holzgerlingen', 'Hombrechtikon', 'Hongseong-gun', 'Hoofddorp', 'Hoorn', 'Horishni Plavni', 'Horley', 'Horlivka', 'Horodok', 'Hosur', 'Houston', \"Hresivs'kyi\", 'Hua Hin', 'Huddinge', 'Humanes de Madrid', 'Hummelstown', 'Huntington Beach', 'Huntley', 'Hurghada', \"Hvardiis'ke\", 'Hyderabad', 'Hyvinkaa', 'IJmuiden', 'Iasi', 'Ibague', 'Ibiza', 'Iesi', 'Ilmenau', \"Ilovais'k\", 'Ilsenburg', 'Ilza', 'Imatra', 'Incheon', 'Indianapolis', 'Indore', \"Industrial'nyy\", 'Ingolstadt', 'Inta', 'Invercargill', 'Irkutsk', \"Irpin'\", 'Irvine', 'Isfahan', 'Ishimbay', 'Iskitim', 'Isla Vista', 'Islamabad', 'Isparta', 'Issum', 'Istanbul', 'Istra', 'Itajai', 'Itzehoe', 'Ivano-Frankivsk', 'Ivanovo', 'Ivanteyevka', 'Iver', 'Izhevsk', 'Izmail', 'Izmir', 'Jacksonville', 'Jakarta', 'Jakobsberg', 'Jarvenpaa', 'Jawor', 'Jecheon-si', 'Jeddah', 'Jelgava', 'Jena', 'Jenstejn', 'Jersey City', 'Jerusalem', 'Jinan', 'Joensuu', 'Johannesburg', 'Johor Bahru', 'Johvi', 'Joinville', 'Jonkoping', 'Julich', 'Juravskaia', 'Jurmala', 'Juuka', 'Jyvaskyla sub-region', 'Kabul', 'Kachkanar', 'Kadiivka', 'Kaharlyk', 'Kaiserslautern', 'Kajang', 'Kakhovka', 'Kalajoki', 'Kalamata', 'Kalininets', 'Kaliningrad', 'Kalmiuske', 'Kaluga', 'Kalush', \"Kam'yanets'-Podil's'kyi\", 'Kamensk-Shakhtinsky', 'Kamensk-Uralsky', 'Kamianske', 'Kamnik', 'Kampala', 'Kamyshin', 'Kanash', 'Kandalaksha', 'Kanevskaya', 'Kanpur', 'Kansas City', 'Kansk', 'Karabuk', 'Karachi', 'Karagandy', 'Karcag', 'Karlovy Vary', 'Karlsruhe', 'Karmiel', 'Karon', 'Kars', 'Kartaly', 'Kashira', 'Kashiwa', 'Kaspiysk', 'Kassel', 'Katav-Ivanovsk', 'Kathmandu', 'Katowice', 'Kaunas', 'Kawachi District', 'Kawasaki', 'Kayseri', 'Kazabazua', 'Kazan', 'Kearney', 'Kefar Sava', 'Keila', 'Kelkheim', 'Keller', 'Kelowna', 'Kelsterbach', 'Kemer', 'Kemerovo', 'Kenitra', 'Kerava', 'Kerch', 'Keszthely', 'Key Largo', 'Khabarovsk', 'Khanty-Mansiysk', 'Kharkiv', 'Khartoum', \"Khartsyz'k\", 'Khasavyurt', 'Kherson', 'Khimki', 'Khmelnytskyi', 'Kholmsk', 'Khotkovo', 'Khotyn', 'Khouribga', 'Khrestivka', 'Khrustalnyi', 'Khust', 'Kiel', 'Kielce', 'Kigali', 'Kikinda', 'Kimry', 'Kinel', 'Kineshma', 'Kingisepp', 'Kingston', 'Kinshasa', 'Kirikkale', 'Kirishi', 'Kirkland', 'Kirklareli', 'Kirov', 'Kirovo-Chepetsk', 'Kirovsk', 'Kiruna', 'Kiryat Ata', 'Kirzhach', 'Kiselyovsk', 'Kislovodsk', 'Kitchener', 'Kizilyurt', 'Kizlyar', 'Klaipeda', 'Kleve', 'Klimovsk', 'Klin', 'Kobe', 'Kobelyaky', 'Koblenz', 'Kochi', 'Koh Samui', 'Kohtla-Jarve', 'Kolchugino', 'Kolkata', 'Kolomna', 'Kolomyya', 'Kommunar', 'Komsomolsk-on-Amur', 'Konakovo', 'Konin', 'Konotop', 'Konstanz', 'Konya', 'Kopeysk', 'Korenovsk', 'Korkino', 'Korolyov', 'Korsakov', \"Korsun'-Shevchenkivs'kyi\", 'Korzhevskiy', 'Kos', 'Koshigaya', 'Kostanay', 'Kostomuksha', \"Kostopil'\", 'Kostroma', 'Kostyantynivka', 'Kotelniki', 'Kotka', 'Kotlas', 'Koto City', 'Kotor Municipality', 'Kourou', 'Kouvola', \"Kovel'\", 'Kovrov', 'Kozyatyn', 'Kragujevac', 'Krakow', 'Kramatorsk', 'Kranenburg', 'Kraskovo', 'Krasnoarmeysk', 'Krasnodar', 'Krasnogorsk', 'Krasnohrad', \"Krasnohvardiis'ke\", \"Krasnoperekops'k\", 'Krasnoturyinsk', 'Krasnouralsk', 'Krasnoyarsk', 'Krasnoznamensk', 'Kratovo', 'Krefeld', 'Kremenchuk', \"Kremenets'\", 'Kresttsy', 'Krimpen aan den IJssel', \"Krolevets'\", 'Kropotkin', 'Kropyvnytskyi', 'Kryvyi Rih', 'Kstovo', 'Kuala Lumpur', 'Kubinka', 'Kugesi', 'Kumagaya', 'Kumertau', 'Kungsangen', 'Kungur', 'Kuopio', \"Kup'yans'k\", 'Kurakhove', 'Kurchatov', 'Kuressaare', 'Kurgan', 'Kurovskoye', 'Kursk', 'Kurumoch', 'Kusadasi', 'Kushchyovskaya', 'Kushimoto', 'Kusnacht', 'Kuta', 'Kuta Selatan', 'Kutahya', 'Kuusamo', 'Kuwait City', 'Kuznetsk', 'Kyiv', 'Kyshtym', 'Kyustendil', 'Kyzyl', 'Kyzylorda', \"L'Hospitalet de Llobregat\", 'La Canyada', 'La Crescenta-Montrose', 'La Grande-Motte', 'La Mesa', 'La Plata', 'La Romana', 'La Teste-de-Buch', 'Labinsk', 'Labytnangi', 'Laem Chabang', 'Lafayette', 'Lagos', 'Laguna Niguel', 'Lahore', 'Lahti', 'Lamezia Terme', 'Lancaster', 'Lancy', \"Land O' Lakes\", 'Landsmeer', 'Langen', 'Langenhagen', 'Langfang', 'Lansing', 'Lappeenranta', 'Largo', 'Larnaca', 'Las Palmas de Gran Canaria', 'Las Vegas', 'Lauchhammer', 'Lauf an der Pegnitz', 'Laurel', 'Lausanne', 'Laval', 'Le Mesnil-Saint-Denis', 'Leatherhead', 'Lecce', 'Lecco', 'Leeds', 'Leipzig', 'Lemvig', 'Lenina', 'Leninsk-Kuznetskiy', 'Leon', 'Leopoldshohe', 'Lesnoy Gorodok', 'Leusden', 'Levanger Municipality', 'Leverkusen', 'Lexington', 'Liberec', 'Lida', 'Lidingo', 'Liege', 'Liepaja', 'Likino-Dulyovo', 'Lille', 'Lilongwe', 'Limassol', 'Limburg', 'Limerick', 'Lincoln Park', 'Linden', 'Lingen', 'Linkoping', 'Linz', 'Lipa', 'Lipetsk', 'Liphook', 'Lipitsy', 'Lisakovsk', 'Lisbon', 'Lisieux', 'Lissone', 'Livermore', 'Liverpool', 'Livingston', 'Livorno', 'Ljubljana', 'Lobnya', 'Locarno', 'Lod', 'Lodeynoye Pole', 'Lodz', 'Lohne', 'Lome', 'Lommel', 'London', 'Long Beach', 'Lorenskog Municipality', 'Lorgues', 'Lorient', 'Los Angeles', 'Losino-Petrovsky', 'Lovech', 'Loviisa', 'Lozova', 'Luanda', 'Lubbock', 'Lubeck', 'Lublin', 'Lubny', 'Lucan', 'Lucca', 'Ludwigsburg', 'Ludwigshafen', 'Lugano', 'Luhansk', 'Lukhovitsy', 'Lulea', 'Lund', 'Luneburg', 'Lusaka', 'Luton', 'Lutsk', 'Lutuhyne', 'Luxembourg', 'Luxor', 'Lviv', 'Lyngby', 'Lyon', 'Lyskovo', 'Lysva', \"Lysychans'k\", 'Lytkarino', 'Lyuban', 'Lyubertsy', 'Lyubotyn', 'Maardu', 'Maastricht', 'Maasvlakte Rotterdam', 'Maddaloni', 'Madrid', 'Magadan', 'Magdeburg', 'Maghull', 'Magnitogorsk', 'Mai Khao', 'Maidstone', 'Maiduguri', 'Mainz', 'Maisons-Alfort', 'Majalaya', 'Makariv', 'Makassar', 'Makati', 'Makhachkala', 'Makiivka', 'Maladzyechna', 'Malaga', 'Malakhovka', 'Malang', 'Malatya', 'Male', 'Malmo', 'Maloyaroslavets', 'Malyn', 'Malysheva', 'Managua', 'Manama', 'Manavgat', 'Manchester', 'Mandalay', 'Mandelieu-La Napoule', 'Manila', 'Mannheim', 'Maputo', 'Maracaibo', 'Marbella', 'Margate', \"Marhanets'\", 'Maribor', 'Marijampole', 'Marina del Rey', \"Mariupol'\", 'Markham', 'Marks', 'Marl', 'Marlow', 'Marmaris', 'Marrakesh', 'Marseille', 'Marsta', 'Mason', 'Matara', 'Mataro', 'Matsudo', 'Matsuyama', 'Maykop', 'Mazeikiai', 'Mazyr', 'Mechelen', 'Meckenheim', 'Medellin', 'Medicine Hat', 'Medina', 'Meerut', 'Megion', 'Meissen', 'Meknes', 'Melbourne', 'Meleuz', \"Melitopol'\", 'Memphis', 'Menden', 'Mendoza', 'Mengwi', 'Menlo Park', 'Menton', 'Menzelinsk', 'Meppel', 'Merced', 'Merefa', 'Merida', 'Merignac', 'Mersin', 'Metairie', 'Metz', 'Meudon', 'Mexico City', 'Meyrin', 'Mezhdurechensk', 'Miami', 'Miami Beach', 'Mian Channu', 'Miass', 'Michurinsk', 'Middletown', 'Mierzyn', 'Mikhaylovka', 'Mikkeli Province', 'Milan', 'Milton Keynes', 'Milwaukee', 'Minato City', 'Mineralnye Vody', 'Minneapolis', 'Minsk', 'Mint Hill', 'Minusinsk', 'Mirny', 'Mississauga', 'Mito', 'Mobile', 'Modena', \"Modi'in-Maccabim-Re'ut\", 'Mogadishu', 'Mogilev', \"Mohyliv-Podil's'kyi\", 'Mollet del Valles', 'Molndal', \"Molodohvardiis'k\", 'Monchegorsk', 'Monchengladbach', 'Monino', 'Monroe Township', 'Montbeliard', 'Montecatini Terme', 'Monteria', 'Monterrey', 'Montesilvano', 'Montevideo', 'Montgomery', 'Montpellier', 'Montreal', 'Montreuil', 'Montreux', 'Monza', 'Moorestown', 'Moquegua', 'Moraga', 'Morbach', 'Moscow', 'Mosonmagyarovar', 'Mougins', 'Mount Lebanon', 'Mount Prospect', 'Mountain View', 'Mozhaysk', 'Mozhga', 'Mudanya', 'Mugla', 'Muhldorf', 'Muhlhausen', 'Muhlheim am Main', 'Mukachevo', 'Mulheim', 'Mumbai', 'Munich', 'Munster', 'Murcia', 'Muri bei Bern', 'Murmansk', 'Murom', 'Musselburgh', 'My Tho', 'Mykolaiv', 'Myrhorod', 'Myrnohrad', 'Mysuru', 'Mytishchi', \"N'Djamena\", 'Naaldwijk', 'Naberezhnye Chelny', 'Nabeul\\u200e', 'Nador', 'Nadym', 'Nagano', 'Nagareyama', 'Nagasaki', 'Nagoya', 'Nahariyya', 'Nairobi', 'Nakhabino', 'Nakhodka', 'Nakhon Si Thammarat', 'Nalchik', 'Namangan', 'Namur', 'Nanjing', 'Nanterre', 'Nantucket', 'Naples', 'Nara', 'Narita', 'Naro-Fominsk', 'Naron', 'Narva', 'Naryan-Mar', 'Nashville', 'Natal', 'Navalcarnero', 'Navapolatsk', 'Navi Mumbai', 'Navoi', 'Nazran', 'Neftekamsk', 'Nefteyugansk', 'Nelson', 'Neryungri', 'Nessebar', 'Netanya', 'Netphen', 'Nettetal', 'Neu-Ulm', 'Neubiberg', 'Neuenhagen', 'Neuilly-sur-Seine', 'Neumarkt in der Oberpfalz', 'Neuss', 'Nevinnomyssk', 'Nevsehir', 'New Bedford', 'New Braunfels', 'New Cairo City', 'New Delhi', 'New Lisbon', 'New London', 'New Orleans', 'New York', 'Newark', 'Newcastle upon Tyne', 'Newquay', 'Newton', 'Nha Trang', 'Niamey', 'Nice', 'Nicosia', 'Niepolomice', 'Nieuwerkerk aan den IJssel', 'Nijkerk', 'Nijmegen', 'Nikolskoye', \"Nikopol'\", 'Niksic Municipality', 'Nimes', 'Niort', 'Nipomo', 'Nis', 'Nitra', 'Nivala', 'Nizhnebakanskaya', 'Nizhnekamsk', 'Nizhnevartovsk', 'Nizhny Novgorod', 'Nizhny Tagil', 'Nizhnyaya Tura', 'Noginsk', 'Nogliki', 'Noida', 'Noisy-le-Grand', 'Norderstedt', 'Norfolk', 'Norilsk', 'Norrkoping', 'North Bergen', 'North Fort Myers', 'North Kuta', 'North Miami', 'North Miami Beach', 'North Plainfield', 'North Port', 'North Reading', 'Northampton', 'Nottingham', 'Noumea', 'Nova Kakhovka', 'Nova Vodolaha', 'Novaya Adygeya', \"Novhorod-Sivers'kyi\", 'Novi Sad', 'Novoaltaysk', \"Novoazovs'k\", 'Novocheboksarsk', 'Novocherkassk', \"Novohrad-Volyns'kyi\", 'Novokuybyshevsk', 'Novokuznetsk', 'Novomikhailovskii', \"Novomoskovs'k\", 'Novomoskovsk', 'Novorossiysk', 'Novoshakhtinsk', 'Novosibirsk', 'Novotitarovskaya', 'Novotroitsk', 'Novoukrainskoye', 'Novouralsk', 'Novovolynsk', 'Novoye Devyatkino', 'Novy Urengoy', 'Noyabrsk', 'Nukus', 'Nuneaton', 'Nur-Sultan', 'Nuremberg', 'Nyagan', 'Nybro', 'Nyzhnya Krynka', 'Oakland', 'Oberhausen', 'Oberstdorf', 'Oberursel', 'Obninsk', 'Obukhiv', 'Ocean City', 'Odense', 'Odenton', 'Odesa', 'Odessa', 'Odintsovo', 'Offenbach', 'Offenburg', 'Ogre', 'Okayama', 'Okhtyrka', 'Oklahoma City', \"Oktyabrs'ke\", 'Oktyabrsky', 'Olching', 'Oldbury', 'Oldenburg', \"Olevs'k\", 'Olginka', 'Olpe', 'Olsztyn', 'Oludeniz', 'Omsk', 'Opa-locka', 'Opfikon', 'Oran', 'Orekhovo-Zuyevo', 'Orenburg', 'Orimattila', 'Orland', 'Orlando', 'Ormond Beach', 'Orsha', 'Orsk', 'Oryol', 'Osaka', 'Osby', 'Osh', 'Osinovo', 'Oslo Municipality', 'Osnabruck', 'Ostrava', 'Ostrov', 'Ota City', 'Otradny', 'Ottawa', 'Ouagadougou', 'Oujda', 'Oulu', 'Overijse', 'Overland Park', \"Ovidiopol'\", 'Oxford', 'Oyster Bay', 'Ozersk', 'Pa Tong', 'Pabna', 'Paderno Dugnano', 'Padua', 'Pagosa Springs', 'Paju-si', 'Pak Chong', 'Pak Phriao', 'Paks', 'Palaiseau', 'Palanga', 'Palatka', 'Palermo', 'Palisades Park', 'Palm Beach Gardens', 'Palm Coast', 'Palm Valley', 'Palma', 'Palmdale', 'Panama City', 'Papenburg', 'Paphos', 'Papillion', 'Paraiso do Tocantins', 'Paranaque', 'Parczew', 'Paris', 'Parma', 'Parndorf', 'Parsippany-Troy Hills', 'Pasadena', 'Passau', 'Paterno', 'Patna', 'Pattaya City', 'Pau', 'Pavlodar', 'Pavlohrad', 'Pavlovo', 'Pavlovsky Posad', 'Payallar', 'Pechora', 'Peer', 'Peniscola', 'Penza', 'Pepperell', 'Pereiaslav', 'Pereslavl-Zalessky', \"Pereval's'k\", 'Perkasie', 'Perm', 'Perpignan', \"Pershotravens'k\", 'Perth', \"Pervomais'k\", \"Pervomais'kyi\", 'Pervouralsk', 'Pesaro', 'Pescara', 'Peschiera del Garda', 'Petah Tikva', 'Petaling Jaya', 'Peterborough', 'Petersberg', 'Petershagen', 'Petrich', 'Petropavl', 'Petropavlovsk-Kamchatskiy', 'Petrovo-Dalneye', 'Petrovskoye', 'Petrozavodsk', 'Pforzheim', 'Phan Thiet', 'Phenix City', 'Philadelphia', 'Phnom Penh', 'Phoenix', 'Phuket', 'Piaseczno', 'Pietermaritzburg', 'Pilsen', 'Pimpri-Chinchwad', 'Pineto', 'Pinsk', 'Pireas', 'Pisa', 'Pisochyn', 'Pittsburgh', 'Plan-les-Ouates', 'Plano', 'Plast', 'Plastunovskaya', 'Playa del Carmen', 'Pleasanton', 'Plock', 'Plovdiv', 'Plymouth', 'Pocking', 'Podgorica', 'Podolsk', 'Poissy', 'Pokrovsk', 'Polatsk', 'Polevskoy', 'Polohy', 'Polonne', 'Poltava', 'Poltavskaya', 'Polygyros', 'Polysayevo', 'Pomorie', 'Pontianak', 'Pontoise', 'Popasna', 'Porec', 'Porlamar', 'Pornainen', 'Poronaysk', 'Port Angeles', 'Port Aransas', 'Port Coquitlam', 'Port Louis', 'Port Orange', 'Port-au-Prince', 'Portimao', 'Portland', 'Porto', 'Porto Alegre', 'Porvoo', 'Postbauer-Heng', 'Potsdam', 'Poularies', 'Povarovo', 'Pozega', 'Poznan', 'Prague', 'Prangins', 'Prattville', 'Preston', 'Pretoria', 'Prevessin-Moens', 'Prineville', 'Priozersk', 'Prokhladny', 'Prokopyevsk', 'Prostejov', 'Protvino', 'Pryluky', 'Pskov', 'Puchong', 'Puerto Plata', 'Pula', 'Pully', 'Pune', 'Purcellville', 'Pushchino', 'Pushkino', 'Pyatigorsk', 'Pyeongtaek-si', 'Pyt-Yakh', 'Qingdao', 'Qom', 'Quezon City', 'Quincy', 'Quinte West', 'Quito', \"Ra'anana\", 'Rabat', 'Radebeul', \"Radomyshl'\", 'Raduzhny', 'Raipur', 'Rakvere', 'Raleigh', 'Ramat Gan', 'Ramatuelle', 'Ramenskoye', 'Ramla', 'Ramsey', 'Rangpur', 'Raritan', 'Ras Al-Khaimah', 'Ratsada', 'Rawai', 'Rawalpindi', 'Reading', 'Recife', 'Recklinghausen', 'Recyca', 'Redwood City', 'Redwood Meadows', 'Regensburg', 'Reggio Emilia', 'Rehau', 'Reims', 'Remagen', 'Rendsburg', 'Rennes', 'Reno', 'Reston', 'Retford', 'Reutlingen', 'Reutov', 'Revda', 'Reykjanesbaer', 'Reykjavik', 'Reynoldsburg', 'Reyrieux', 'Rezekne', 'Rheda-Wiedenbruck', 'Ricany', 'Riccione', 'Richmond', 'Richmond Hill', 'Ridgefield Park', 'Riga', 'Riihimaki', 'Rijeka', 'Rinteln', 'Rio Maior', 'Rio Rancho', 'Rio de Janeiro', 'Rishon LeTsiyon', 'Rivas-Vaciamadrid', 'Rivne', 'Riyadh', 'Rochester', 'Rockledge', 'Rodniki', 'Roissy-en-France', 'Rolla', 'Rome', 'Romny', 'Ronne', 'Rosenberg', 'Rosenheim', 'Rossosh', 'Rostock', 'Rostov', 'Rostov-on-Don', 'Roth', 'Rotterdam', 'Roubaix', 'Rouen', \"Roven'ky\", 'Rovinj', 'Royal Leamington Spa', 'Royal Tunbridge Wells', 'Royan', 'Rozaje Municipality', 'Rubi', 'Rubizhne', 'Rubtsovsk', 'Russkiy', 'Ruza', 'Ruzayevka', 'Ryazan', 'Rybinsk', 'Rychnov nad Kneznou', 'Rychvald', 'Rzeszow', 'Saalfelden', 'Saas Fee', 'Sacramento', 'Safed', 'Safonovo', 'Saint Denis', 'Saint Michael', 'Saint Petersburg', 'Saint-Arsene', \"Saint-Barthelemy-d'Anjou\", 'Saint-Denis', 'Saint-Genis-Pouilly', 'Saint-Nazaire', 'Saint-Raphael', 'Saitama', 'Saky', 'Salavat', 'Sale', 'Salekhard', 'Salihorsk', 'Salla', 'Salou', 'Salsk', 'Salt Lake City', 'Salvador', 'Salzburg', 'Samara', 'Samarkand', 'Samarskoye', 'Sambir', 'Samsun', 'San Antonio', 'San Benedetto del Tronto', 'San Bernardino', 'San Cristobal de La Laguna', 'San Diego', 'San Francisco', 'San Giorgio delle Pertiche', 'San Jose', 'San Pedro Garza Garcia', 'San Pedro Sula', 'San Tan Valley', \"Sana'a\", 'Sandanski', 'Sandnes Municipality', 'Sandton', 'Sandviken', 'Sandwich', 'Sandy Springs', 'Sanem', 'Sankt Ingbert', 'Sanliurfa', 'Sant Cugat del Valles', 'Santa Ana', 'Santa Barbara', 'Santa Clara', 'Santa Cruz de Tenerife', 'Santa Monica', 'Santiago', 'Santiago De Los Caballeros', 'Santo Domingo', 'Santo Tirso', 'Sao Luis', 'Sao Paulo', 'Sarajevo', 'Saransk', 'Sarapul', 'Saratov', 'Sarov', 'Sartrouville', 'Saskatoon', 'Satka', 'Schiedam', 'Schiltigheim', 'Schkeuditz', 'Schonefeld', 'Schwabach', 'Schwabisch Gmund', 'Schwabisch Hall', 'Schwechat', 'Scottsdale', 'Scranton', 'Scunthorpe', 'Seattle', 'Secaucus', 'Selfkant', 'Selyatino', 'Semender', 'Semey', 'Semibratovo', 'Seminole', 'Senftenberg', 'Senigallia', 'Seogwipo-si', 'Seosan-si', 'Seoul', 'Sergiyev Posad', 'Serik', 'Serov', 'Serpukhov', 'Sertolovo', 'Sesto San Giovanni', 'Setagaya City', 'Setif', 'Setubal Municipality', 'Sevastopol', 'Severodonetsk', 'Severodvinsk', 'Severomorsk', 'Seversk', 'Seville', 'Shadrinsk', 'Shakhovskaya', \"Shakhtars'k\", 'Shakhty', 'Shanghai', 'Sharjah', 'Sharm El-Sheikh', 'Shatura', 'Shchyokino', 'Shchyolkovo', 'Shelekhov', 'Shenzhen', 'Sherbrooke', 'Shinagawa City', 'Shinjuku City', 'Shiraz', 'Shlisselburg', 'Shostka', 'Shpola', 'Shuya', 'Shymkent', 'Shyroke', 'Si Sunthon', 'Siauliai', 'Sibay', 'Sibiu', 'Side', 'Siedlce', 'Siegen', 'Silifke', 'Silver Spring', 'Simferopol', 'Sindelfingen', 'Singapore', 'Singen', 'Sinsheim', 'Sintra', 'Sion', 'Skovde', 'Slavgorod', 'Slavutych', 'Slavyanka', 'Slavyansk-na-Kubani', 'Slough', 'Slovyansk', 'Smila', 'Smolensk', 'Snezhinsk', 'Snizhne', 'Sochi', 'Sodertalje', 'Soest', 'Sofia', 'Sofiivka', 'Sokal', 'Sokouri', 'Sola', 'Solaro', 'Solikamsk', 'Solingen', 'Sollentuna', 'Solna', 'Solnechnogorsk', 'Solon', 'Sombor', 'Sommerda', 'Sonoma', 'Sopron', 'Sor-Varanger', 'Sorokyne', 'Sosnovoborsk', 'Sosnovy Bor', 'Sosnowiec', 'Sousse', 'South Lake Tahoe', 'South San Francisco', 'Southampton', 'Southend-on-Sea', 'Southport', 'Sovetsk', \"Sovjets'kyi\", 'Soweto', 'Spassk-Dalny', 'Split', 'Spokane Valley', 'Springfield', 'Spruce Grove', 'St Andrews', 'St-Bruno-de-Montarville', 'St-Imier', 'St-Laurent-du-Var', 'St. Gallen', 'St. Louis', 'St. Petersburg', 'Stamford', 'Stanwell', 'Stara Zagora', 'Staraya Kupavna', 'Starnberg', 'Starnikovo', \"Starobil's'k\", 'Starokorsunskaya', 'Stary Oskol', 'Stavanger Municipality', 'Stavropol', 'Steinkjer Municipality', 'Sterlitamak', 'Steyr', 'Stockholm', 'Stolberg (Rhineland)', 'Stony Brook', 'Strasbourg', 'Strassen', 'Strasswalchen', 'Strausberg', 'Streetsboro', 'Strovolos', 'Stryi', 'Stupino', 'Stuttgart', 'Sudak', 'Suez', 'Suginami City', 'Suhl', \"Sukhodil's'k\", 'Sumqayit', 'Sumy', 'Sunne', 'Sunny Beach', 'Sunny Isles Beach', 'Sunnyvale', 'Sunset Beach', 'Surabaya', 'Surat Thani', 'Surgut', 'Surrey', 'Sutton', 'Suva', 'Suwon-si', 'Suzhou', 'Svatove', 'Svetogorsk', 'Svishtov', 'Swiebodzin', 'Sydney', 'Syktyvkar', \"Synel'nykove\", 'Syracuse', 'Syzran', 'Szczecin', 'Szczecinek', 'Szeged', 'Tabriz', 'Taby', 'Tacna', 'Tacoma', 'Taebaek-si', 'Taganrog', 'Tahitotfalu', 'Taiping', \"Tal'ne\", 'Taldykorgan', 'Tallinn', 'Tambov', 'Tampa', 'Tampere', 'Tamworth', 'Tangerang', 'Tangier', 'Taoyuan District', 'Tapachula', 'Tapolca', 'Taraz', 'Tarko-Sale', 'Tarlac City', 'Tartu', 'Tarvasjoki', 'Tashkent', 'Tasikmalaya', 'Tay Ninh', 'Tbilisi', 'Tehran', 'Tekirova', 'Tel Aviv-Yafo', 'Telford', 'Temirtau', 'Temryuk', 'Teplice', 'Teramo', 'Terebovlya', 'Ternopil', 'Terre Haute', 'Tetouan', 'Teufen', 'Tewksbury', 'Thale', 'Thanh Hoa', 'The Hague', 'Thessaloniki', 'Thousand Oaks', 'Tianjin', 'Tiberias', 'Tikhoretsk', 'Tikhvin', 'Tilburg', 'Tilbury', 'Timika', 'Timiskaming, Unorganized, East Part', 'Timisoara', 'Timmendorfer Strand', 'Tirana', 'Tiraspol', 'Tirat Carmel', 'Tivat Municipality', 'Tobolsk', 'Toledo', 'Tolyatti', 'Tomilino', 'Tomsk', 'Tonawanda', 'Toronto', 'Torrance', 'Torre del Mar', 'Torrevieja', 'Torshavn', 'Torzhok', 'Tosno', 'Toulouse', 'Tourcoing', 'Tracy', 'Trento', 'Trenton', 'Tres Lagoas', 'Treviso', 'Trieste', 'Tripoli', 'Troedobelikovskiy', 'Troitsk', \"Trostyanets'\", 'Truckee', 'Trudovoye', 'Tsivilsk', 'Tsu', 'Tu Son', 'Tuapse', 'Tuchkovo', 'Tula', 'Tulln', 'Tulsa', 'Tulum', 'Tunis', 'Tupelo', 'Turin', 'Turku', 'Tuttlingen', 'Tuymazy', 'Tver', 'Tynda', 'Tyumen', 'Ubud', 'Uccle', 'Uchaly', 'Uddevalla', 'Udine', 'Udomlya', 'Ufa', 'Ukhta', 'Ukrainka', \"Ul'yanovka\", 'Ulaanbaatar', 'Ulan-Ude', 'Ullensaker Municipality', 'Ulm', 'Ulsan', 'Ulyanovsk', 'Uman', \"Uman'\", 'Unalaska', 'Union Park', 'Unterageri', 'Upplands Vasby', 'Uralsk', 'Urdorf', 'Urgench', 'Urgup', 'Urmia', 'Urus-Martan', 'Usinsk', 'Usolye-Sibirskoye', 'Ussuriysk', \"Ust'-Kamenogorsk\", 'Ust-Ilimsk', 'Ust-Katav', 'Ust-Labinsk', 'Utrecht', 'Uusikaupunki', 'Uzhhorod', 'Uzlovaya', 'Vaasa', 'Vacoas-Phoenix', 'Valencia', 'Valenzuela', 'Valga', 'Valladolid', 'Vallauris', 'Vanadzor', 'Vancouver', 'Vanino', 'Vannes', 'Vantaa', 'Varadero', 'Varese', 'Varna', 'Vasylkiv', 'Vatutine', 'Vaughan', 'Vejle', 'Velikiye Luki', 'Veliko Tarnovo', 'Veliky Novgorod', 'Veliky Ustyug', \"Velykodolyns'ke\", 'Venice', 'Venray', 'Ventspils', 'Verkhnyaya Pyshma', 'Verkhnyaya Salda', 'Verona', 'Verviers', 'Vestal', 'Vicenza', 'Viciebsk', 'Vidnoye', 'Vielsalm', 'Vienna', 'Vientiane', 'Vijayawada', 'Vilafranca del Penedes', 'Villach', 'Villahermosa', 'Villeneuve-le-Roi', 'Vilnius', 'Vinkovci', 'Vinnytsia', 'Visaginas', 'Visakhapatnam', 'Visconde do Rio Branco', 'Vitoria-Gasteiz', 'Vladikavkaz', 'Vladimir', 'Vladivostok', 'Vlasikha', 'Volgodonsk', 'Volgograd', 'Volkhov', 'Volodymyr-Volynsky', 'Vologda', 'Volokolamsk', 'Volzhskiy', 'Vorkuta', 'Voronezh', 'Voronezjskaja', 'Voskresensk', 'Vosselaar', 'Votkinsk', \"Vovchans'k\", \"Voznesens'k\", 'Vsevolozhsk', 'Vung Tau', 'Vyazma', 'Vyazniki', 'Vyborg', 'Vyksa', 'Vyshhorod', 'Vyshneve', 'Vyshny Volochyok', 'Vysokaya Gora', 'Waco', 'Waldbrol', 'Waldkirch', 'Walldorf', 'Wallington', 'Walnut Creek', 'Wando-gun', 'Wangen im Allgau', 'Wanju-gun', 'Ware', 'Warminster', 'Warren', 'Warsaw', 'Warwick', 'Washington', 'Wasilla', 'Weehawken', 'Weesp', 'Wellington', 'Wembley', 'Werdohl', 'Wermelskirchen', 'West Chicago', 'West Goshen', 'West Hartford', 'Westerstede', 'Westfield', 'Westminster', 'Weston', 'Westport', 'Westview', 'Wheeling', 'Wiesbaden', 'Wildwood', 'Willich', 'Wilton', 'Windhoek', 'Windsor Locks', 'Winnipeg', 'Winterthur', 'Wokingham', 'Wolfsburg', 'Wolfurt', 'Wolgast', 'Wolno-Nadeschdinskoje', 'Woluwe-Saint-Pierre', 'Wolverhampton', 'Wonju-si', 'Woodbridge Township', 'Woodbury', 'Woodruff', 'Wroclaw', 'Wunstorf', 'Wuppertal', 'Wurzburg', \"Xi'an\", 'Yablonovsky', 'Yakhroma', 'Yakutsk', 'Yalikavak', 'Yalova', 'Yalta', 'Yalutorovsk', 'Yamaguchi', 'Yamatokoriyama', 'Yangon', 'Yaounde', 'Yaroslavl', 'Yasynuvata', 'Yavne', 'Yavoriv', 'Yegoryevsk', 'Yekaterinburg', 'Yelets', 'Yelizovo', 'Yenagoa', 'Yenakijeve', 'Yeovil', 'Yerevan', 'Yevpatoriya', 'Yeysk', 'Yokohama', 'Yoshkar-Ola', \"Yunokomunarivs'k\", 'Yurga', 'Yuzhno-Sakhalinsk', \"Yuzhnoukrains'k\", 'Yuzhnouralsk', 'Yuzhnyy', 'Zagazig', 'Zagorjanskas', 'Zagreb', 'Zamberk', 'Zamora', 'Zandvoort', 'Zanzibar', 'Zaporizhzhia', 'Zarechny', 'Zarechnyy', 'Zarinsk', 'Zaslauje', 'Zatec', 'Zaventem', 'Zavidovo', 'Zavolzhye', 'Zelenodolsk', 'Zell', 'Zgierz', 'Zgorzelec', 'Zhashkiv', 'Zheleznodorozhny', 'Zheleznogorsk', 'Zhengzhou', 'Zhigulevsk', 'Zhmerynka', 'Zhodzina', 'Zhongli District', 'Zhovti Vody', 'Zhukovskiy', 'Zhytomyr', 'Zilina', 'Zipaquira', 'Zlatoust', 'Zlin', 'Znamenskiy', 'Zolochiv', 'Zolotonosha', 'Zug', 'Zuhres', 'Zurich', 'Zvenigorod', 'Zvenyhorodka', 'Zwickau', 'Zwolle', 'Тарасовка', 'Тимофеевка', 'Хомутово']\n",
      "------------\n",
      "В атрибуте: hit_type - 1 значений\n",
      "['event']\n",
      "------------\n",
      "В атрибуте: event_category - 52 значений\n"
     ]
    },
    {
     "name": "stdout",
     "output_type": "stream",
     "text": [
      "['active_invitation', 'ad_banner', 'add_ad', 'add_ad_additional_information', 'add_ad_city', 'add_ad_description', 'add_ad_documents', 'add_ad_form', 'add_ad_options', 'add_ad_photo', 'add_ad_preview', 'add_ad_price', 'add_ad_publish_success', 'add_ad_vin', 'app_banner', 'auth', 'card_web', 'cars', 'category_tile', 'chat', 'credit_buttons', 'credit_landing_pos', 'footer', 'greenday_card_web', 'greenday_gtm.triggergroup', 'greenday_listing_ads', 'greenday_sub_button_click', 'greenday_sub_page_view', 'greenday_sub_submit', 'header', 'jivosite', 'listing_ads', 'main_advantages', 'main_banners', 'main_services', 'my_idea', 'navigation', 'offers', 'phone', 'pos_landing', 'profile_menu', 'quiz', 'sap_search__form', 'sap_search_form', 'scrolling_main_page', 'search_form', 'sub_button_click', 'sub_page_view', 'sub_submit', 'tesla', 'titul_form', 'wallet']\n",
      "------------\n",
      "В атрибуте: event_action - 230 значений\n",
      "['add_ad_btn', 'analystlabel', 'auto_subscription_click', 'automatic_return_to_chat', 'back_to_change_phone', 'back_to_options', 'backward_to_additional_information', 'backward_to_basic_data', 'backward_to_city', 'backward_to_description', 'backward_to_documents', 'backward_to_options', 'backward_to_photo', 'backward_to_price', 'calculate', 'callback button', 'callback requested', 'chat established', 'chat requested', 'click_auto', 'click_auto_subscription', 'click_buy_auto', 'click_car_buyback', 'click_car_selection', 'click_credit', 'click_free_car_selection', 'click_go_to_car_search', 'click_insurance', 'click_no_help_needed', 'click_on_android', 'click_on_apple', 'click_on_category', 'click_on_close', 'click_on_confirm_sms_code', 'click_on_contact_us', 'click_on_create_new_account', 'click_on_create_new_account_confirmation', 'click_on_credit_btn', 'click_on_get_code', 'click_on_help_in_finding', 'click_on_logo', 'click_on_menu', 'click_on_my_ads', 'click_on_my_data', 'click_on_ok', 'click_on_phone', 'click_on_privacy_policy', 'click_on_request_call', 'click_on_start_chatting', 'click_on_subscription', 'click_on_terms', 'click_on_wallet', 'click_on_yes_its_me', 'click_pos_credit', 'click_sell', 'click_sell_car', 'click_setelem_credit', 'click_skip_form_lets_get_acquainted', 'click_titul', 'client answer on agent request', 'client initiate chat', 'close_form', 'code_sms_entered_success', 'code_sms_incorrect_in', 'code_sms_limit_error', 'continue in social', 'form_request_call_sent', 'forward_to_additional_information', 'forward_to_city', 'forward_to_description', 'forward_to_documents', 'forward_to_options', 'forward_to_photo', 'forward_to_preview', 'forward_to_price', 'forward_to_to_publish', 'from_credit_landing_pos', 'go_to_car_card', 'go_to_job', 'go_to_my_idea', 'go_to_offer', 'go_to_press_center', 'go_to_privacy_partners', 'go_to_privacy_policy', 'go_to_special_offers', 'go_to_support', 'go_to_terms', 'green_day_road_help_banner_show', 'greenday_get_discount', 'greenday_get_gift', 'greenday_go_to_car_card', 'greenday_sub_call_number_click', 'greenday_sub_callback_submit_click', 'greenday_sub_footer_link_click', 'greenday_sub_header_link_click', 'greenday_sub_landing', 'greenday_sub_open_dialog_click', 'greenday_sub_rules', 'greenday_sub_submit_error', 'greenday_sub_submit_success', 'greenday_sub_view_cars_click', 'greenday_sub_view_faq_click', 'greenday_view_new_card', 'insurance_show', 'jivo_facebook', 'jivo_telegram', 'jivo_viber', 'jivo_vkontakte', 'listing_ads_sort', 'mobile call', 'name_entered', 'name_entered_on_form_request_call', 'new_year_road_help_banner_show', 'new_year_road_help_btn', 'offline form shown', 'offline message sent', 'open_offer', 'pagination_click', 'patronymic_entered', 'phone_auth_start', 'phone_auth_success', 'phone_entered', 'phone_entered_on_form_request_call', 'photos', 'photos_all', 'potential_banner_click', 'potential_banner_show', 'prechat phrase clicked', 'proactive invitation accepted', 'proactive invitation rejected', 'proactive invitation shown', 'quiz_show', 'quiz_start', 'rating_banner_show', 'read_more', 'request', 'request_success', 'sap_search_form_cost_from', 'sap_search_form_cost_to', 'sber_id_auth_back_error', 'sber_id_auth_click_on_deactivation', 'sber_id_auth_error', 'sber_id_auth_show_deactivation_popup', 'sber_id_auth_start', 'sber_id_auth_success', 'scrolling_to_advantages', 'scrolling_to_help_in_finding_banner', 'scrolling_to_services', 'scrolling_to_sub_banner', 'scrolling_to_sub_quick_categories', 'search_body_type', 'search_color', 'search_drive', 'search_engine', 'search_form_clear', 'search_form_cost_from', 'search_form_cost_to', 'search_form_mark_multiselect', 'search_form_mark_select', 'search_form_model_multiselec', 'search_form_model_select', 'search_form_modification_select', 'search_form_region', 'search_form_rental', 'search_form_search_btn', 'search_form_search_car_type_select', 'search_form_year_from', 'search_form_year_to', 'search_km_from', 'search_km_to', 'search_kpp', 'search_power_from', 'search_power_to', 'search_steering_wheel', 'send_code_sms_again', 'setelem_credit_form_button', 'setelem_postzalog_retargeting_button', 'share_btn', 'show_captha_error', 'show_form_lets_get_acquainted', 'show_phone_input', 'show_plug_entered_six_months_ago', 'show_popup_error_confirmation', 'show_popup_this_is_your_account', 'show_pos_status_declined', 'show_sms_code_input', 'showed_active_invitation', 'showed_call_options', 'showed_form_request_call', 'showed_number_ads', 'sravni_credit_form_button', 'start_auth', 'start_chat', 'sub_account_page', 'sub_banner_click', 'sub_call_number_click', 'sub_callback_submit_click', 'sub_car_claim_click', 'sub_car_claim_submit_click', 'sub_car_page', 'sub_car_request_submit_click', 'sub_custom_failed_submit_click', 'sub_custom_question_submit_click', 'sub_faq', 'sub_footer_link_click', 'sub_header_link_click', 'sub_landing', 'sub_offer_click', 'sub_open_dialog_click', 'sub_submit_error', 'sub_submit_success', 'sub_view_cars_click', 'sub_view_faq_click', 'success_ad_creation', 'surname_entered', 'survey_buy_after_sell_start', 'survey_buy_after_sell_when', 'tap_on_phone_495', 'tap_on_phone_800', 'tesla_banner_show', 'tinkoff_credit_form_button', 'titul_page_view', 'toggle_leasing_cars_show', 'typing_in_leasing_chat', 'user gave contacts during chat', 'user_message', 'view_card', 'view_more_click', 'view_new_card', 'view_used_card']\n"
     ]
    }
   ],
   "source": [
    "# Колонки атрибутов Датасета с уникальными значениями, ошибки в которых можно выявить визульно\n",
    "attributes = ['utm_medium', 'device_category', 'device_os', 'device_brand',\n",
    "              'device_browser', 'geo_country', 'geo_city',\n",
    "              'hit_type', 'event_category', 'event_action']\n",
    "\n",
    "#  Вывод уникальных значений выранных атребутов Датасета для визуальной проверки аномалий\n",
    "print_unique(df_merge, attributes)"
   ]
  },
  {
   "cell_type": "markdown",
   "id": "63d4155e",
   "metadata": {},
   "source": [
    "**Вывод**:\n",
    "- в атрибутах 'utm_medium', 'device_os', 'device_brand', 'device_browser', 'geo_country', 'geo_city' присутствуют данные, характеризующие пустые значения: '(none)', '(not set)', 'nan', которые могут не восприниматься python как пустое значение Nan. Такие данные необходимо заменить на Nan"
   ]
  },
  {
   "cell_type": "code",
   "execution_count": 14,
   "id": "0529ad07",
   "metadata": {
    "ExecuteTime": {
     "end_time": "2023-01-10T21:21:08.824196Z",
     "start_time": "2023-01-10T21:20:08.719453Z"
    },
    "code_folding": [],
    "scrolled": true
   },
   "outputs": [],
   "source": [
    "## Замена '(none)', '(not set)', 'nan' на Nan\n",
    "to_replace_list_values = ['(none)', '(not set)', 'nan']\n",
    "df_merge = df_merge.replace(to_replace_list_values, np.nan)"
   ]
  },
  {
   "cell_type": "markdown",
   "id": "87c67494",
   "metadata": {},
   "source": [
    "  "
   ]
  },
  {
   "cell_type": "markdown",
   "id": "accbf4f1",
   "metadata": {},
   "source": [
    "## 3.2. Проверка и коррекция пустых значений в Датасете"
   ]
  },
  {
   "cell_type": "code",
   "execution_count": 15,
   "id": "7fc9b32a",
   "metadata": {
    "ExecuteTime": {
     "end_time": "2023-01-10T21:21:31.910747Z",
     "start_time": "2023-01-10T21:21:16.098633Z"
    },
    "scrolled": true
   },
   "outputs": [
    {
     "name": "stdout",
     "output_type": "stream",
     "text": [
      "Размер анализируемого Датасета: (15854246, 28)\n",
      "ПРОПУСКИ  В  КОЛОНКАХ  ДАТАСЕТА\n",
      "========================================================================\n",
      "  Поле                        Пропуски             Тип данных в колонке \n",
      "                           (кол-во,      %)                             \n",
      "------------------------------------------------------------------------\n",
      "  client_id                 41251      0.26              'str'\n",
      "  visit_date                41251      0.26              'str'\n",
      "  visit_time                41251      0.26              'str'\n",
      "  visit_number              41251      0.26              'numpy.float64'\n",
      "  utm_source                41972      0.26              'str'\n",
      "  utm_medium                3320322    20.94              'str'\n",
      "  utm_campaign              2264440    14.28              'str'\n",
      "  utm_adcontent             2905147    18.32              'str'\n",
      "  utm_keyword               9307387    58.71              'str'\n",
      "  device_category           41251      0.26              'str'\n",
      "  device_os                 9256310    58.38              'str'\n",
      "  device_brand              4141036    26.12              'str'\n",
      "  device_model              15730683   99.22              'float'\n",
      "  device_screen_resolution  41259      0.26              'str'\n",
      "  device_browser            41322      0.26              'str'\n",
      "  geo_country               52548      0.33              'str'\n",
      "  geo_city                  642405     4.05              'str'\n",
      "  hit_date                  127776     0.81              'str'\n",
      "  hit_time                  9288098    58.58              'numpy.float64'\n",
      "  hit_number                127776     0.81              'numpy.float64'\n",
      "  hit_type                  127776     0.81              'str'\n",
      "  hit_referer               6402580    40.38              'float'\n",
      "  hit_page_path             127776     0.81              'str'\n",
      "  event_category            127776     0.81              'str'\n",
      "  event_action              127776     0.81              'str'\n",
      "  event_label               3887960    24.52              'float'\n",
      "  event_value               15854246   100.0              'numpy.float64'\n",
      "========================================================================\n"
     ]
    }
   ],
   "source": [
    "# Определение доли пустых значений в каждом поле Датасета \n",
    "data_set_audit(df_merge)"
   ]
  },
  {
   "cell_type": "code",
   "execution_count": 16,
   "id": "9460b2f9",
   "metadata": {
    "ExecuteTime": {
     "end_time": "2023-01-10T21:23:02.804365Z",
     "start_time": "2023-01-10T21:21:39.173888Z"
    },
    "scrolled": true
   },
   "outputs": [
    {
     "data": {
      "image/png": "[encoded data removed]",
      "text/plain": [
       "<Figure size 2500x1000 with 2 Axes>"
      ]
     },
     "metadata": {},
     "output_type": "display_data"
    }
   ],
   "source": [
    "## Визуализация пропущенных значений Датасета\n",
    "msno.matrix(df_merge);"
   ]
  },
  {
   "cell_type": "markdown",
   "id": "b63ade20",
   "metadata": {},
   "source": [
    "**Вывод.** В объединённом Датасете:\n",
    "- в группе колонок 'utm_keyword', 'device_model', 'hit_time', 'hit_referer', 'event_value' пустых значений более 40%. Такое большое количесвто пропущенных значений не даёт возможность удалить строки с пропусками из-за возможности потери при такой операции более половины данных. Так же из-за большого количества пропусков восстановление данных по средним значениям не целесообразно. Таким образом - для исключения ситуации с пропущенными данными целесообразно удалить столбец указанные столбцы;\n",
    "- в группе колонок 'client_id-utm_source, device_category, device_screen_resolution-device_browser', 'geo_country', 'hit_date', 'hit_number-hit_type, hit_page_path-event_action' имеют пропуски данных в строк - менее 1%. Судя по визуализации пропущенных данных и идентичному количесвту пропусков в отдельных группах колонк - совокупное уменьшение строк в датасете после удаление строк с отсутсвующими значениями в таких колонках приведёт к потре всего около 1,07% записей. Таким образом, учитывая незначительное для наблюдения и моделирования количество потерянных записей при удалении строк с пропущенными данными - для исключения ситуации с пропущенными данными целесообразно удалить строки с пропусками в таких колонках;\n",
    "- в группе колонок 'utm_medium-utm_adcontent, device_brand, event_label' доля пропущенных значений находится в диапазоне от 14,28% до 26,12%. В этих колонках нет явной зависимости значений от значений в других колонках. Так как данные колонки имеют строковые данные и большой % пропусков, непозволяющий удалить строки с пропущенными данными - целессобразно заменить пропущенные данные наиболее часто встревающимися значениями в соответсвующей колонке;\n",
    "- в колонке 'geo_city' 4,05% пропущенных данных. При этом значения данной колонки зависят от значений в колонке 'geo_country' (т.е. каждый город может соответсвовать только конкретной стране). Таким образом, пропуски в этой колонке целесообразно заполнить наиболее часто встречающимися значениями, которые выбраны как самые встречающиеся из массивов городов для соответвующих значеням 'geo_country' в строках с не пропущенными значениями 'geo_city'."
   ]
  },
  {
   "cell_type": "code",
   "execution_count": 17,
   "id": "2d19f5b4",
   "metadata": {
    "ExecuteTime": {
     "end_time": "2023-01-10T21:23:10.204703Z",
     "start_time": "2023-01-10T21:23:10.202195Z"
    }
   },
   "outputs": [],
   "source": [
    "# Список удаляемых колонок\n",
    "# (в колонках более 40% пропущенных данных)\n",
    "columns_columns_delete = ['utm_keyword', 'device_os', 'device_model',\\\n",
    "                          'hit_time', 'hit_referer', 'event_value']\n",
    "\n",
    "# Список колонок, в которых проверется наличие пропусков для удаления строк\n",
    "# (в колонках менее 1% пропущенных данных)\n",
    "columns_rows_delete = ['client_id', 'visit_date', 'visit_time', 'visit_number',\\\n",
    "                       'utm_source', 'device_category', 'device_screen_resolution',\\\n",
    "                       'device_browser', 'geo_country',\\\n",
    "                       'hit_date', 'hit_number', 'hit_type', 'hit_page_path',\\\n",
    "                       'event_category', 'event_action']\n",
    "\n",
    "# Список колонок, в которых меняются пропуски на наиболее часто встречающиеся значения\n",
    "# (в колонках более 1% и менее 40% пропущенных данных)\n",
    "columns_value_top = ['utm_medium', 'utm_campaign', 'utm_adcontent',\\\n",
    "                     'device_brand', 'event_label']\n",
    "\n",
    "# Список колонок, в которых меняются пропуски на наиболее часто встречающиеся значения\n",
    "# при этом одновременно учитываются корреляциии атрибута с другим атрибутом\n",
    "#(в колонках более 1% и менее 40% пропущенных данных)\n",
    "columns_value_top_correlation = [('geo_country', 'geo_city')]\n"
   ]
  },
  {
   "cell_type": "code",
   "execution_count": 18,
   "id": "def9f65a",
   "metadata": {
    "ExecuteTime": {
     "end_time": "2023-01-10T21:28:44.238071Z",
     "start_time": "2023-01-10T21:23:17.450518Z"
    },
    "scrolled": true
   },
   "outputs": [
    {
     "name": "stdout",
     "output_type": "stream",
     "text": [
      "Размер анализируемого Датасета: (15854246, 28) \n",
      "\n",
      "... удаляем колонки, в которых более 40% пропущенных данных ...\n",
      "После удаления заданных колонок - размер датасета: (15854246, 22) \n",
      "\n",
      "... удаляем строки, для которых в колонках менее 1% пропущенных данных ...\n",
      "После удаления строк с нулевыми значениями - размер датасета: (15673232, 22) \n",
      "\n",
      "Удаление колонок и 1 этап удаления строк с нулевыми данными - завершены\n",
      "\n",
      "... запущена перепроверка отсутствия нулевых данных ... \n",
      "Размер анализируемого Датасета: (15673232, 22)\n",
      "ПРОПУСКИ  В  КОЛОНКАХ  ДАТАСЕТА\n",
      "========================================================================\n",
      "  Поле                        Пропуски             Тип данных в колонке \n",
      "                           (кол-во,      %)                             \n",
      "------------------------------------------------------------------------\n",
      "  utm_medium                3251883    20.75              'str'\n",
      "  utm_campaign              2197767    14.02              'str'\n",
      "  utm_adcontent             2830545    18.06              'str'\n",
      "  device_brand              4073236    25.99              'str'\n",
      "  geo_city                  585057     3.73              'str'\n",
      "  event_label               3725350    23.77              'float'\n",
      "========================================================================\n",
      "... в независимых колонках меняем пропущенные данные на наиболее часто встречающиеся ... \n",
      "Первый этап замены пропусков - завершён\n",
      "\n",
      "... запущена перепроверка отсутствия нулевых данных ... \n",
      "Размер анализируемого Датасета: (15673232, 22)\n",
      "ПРОПУСКИ  В  КОЛОНКАХ  ДАТАСЕТА\n",
      "========================================================================\n",
      "  Поле                        Пропуски             Тип данных в колонке \n",
      "                           (кол-во,      %)                             \n",
      "------------------------------------------------------------------------\n",
      "  geo_city                  585057     3.73              'str'\n",
      "========================================================================\n",
      "\n",
      "\n",
      "... в зависимых колонках меняем пропуски на самые частые значения ... \n",
      "Заменена нулевых данных, для которых выявлены наиболее часто встречающиеся значения - завершена\n",
      "\n",
      "... запущена перепроверка отсутствия нулевых данных ... \n",
      "Размер анализируемого Датасета: (15673232, 22)\n",
      "ПРОПУСКИ  В  КОЛОНКАХ  ДАТАСЕТА\n",
      "========================================================================\n",
      "  Поле                        Пропуски             Тип данных в колонке \n",
      "                           (кол-во,      %)                             \n",
      "------------------------------------------------------------------------\n",
      "  geo_city                  1983       0.01              'str'\n",
      "========================================================================\n",
      "... удаляем строки, для которых в колонках остались пропущенные данные ...\n",
      "После удаления строк с нулевыми значениями - размер датасета: (15671249, 22) \n",
      "\n",
      "Удаление строк с нулевыми данными - завершено\n",
      "\n",
      "... запущена перепроверка отсутствия нулевых данных ... \n",
      "Размер анализируемого Датасета: (15671249, 22)\n",
      "Пропущенных данных в Датасете не обнаружено!\n"
     ]
    }
   ],
   "source": [
    "# Удаляем и корректируем пропуски в Датасете\n",
    "df = clean_columns_rows(df_merge,\\\n",
    "                        col_col_df=columns_columns_delete,\\\n",
    "                        col_row_df=columns_rows_delete,\\\n",
    "                        col_cell_val_top=columns_value_top,\n",
    "                        col_cell_val_top_corr=columns_value_top_correlation)"
   ]
  },
  {
   "cell_type": "code",
   "execution_count": 19,
   "id": "39bf9d72",
   "metadata": {
    "ExecuteTime": {
     "end_time": "2023-01-10T21:29:01.418990Z",
     "start_time": "2023-01-10T21:29:00.621641Z"
    }
   },
   "outputs": [],
   "source": [
    "# Очищаем память от неиспользуемого дальше Датасета (для ускорения вычислений)\n",
    "del df_merge"
   ]
  },
  {
   "cell_type": "markdown",
   "id": "120b9b9d",
   "metadata": {},
   "source": [
    "**Вывод.** Из первоначального Датасета:\n",
    "- удалены 6 колонок, в которых пропущено более 40% данных;\n",
    "- удалён 1,1% записей, в атрибутах которых изначально отсутсвовали значения;\n",
    "- в 6 колонках заменены пропущенные значения на наиболее часто встречающиеся значения:\n",
    " >- в 5 колонках простым поиском значений, наиболее часто встречающихся в данной колонке,\n",
    " >- в 1 колонке поиском значений в зависимости от значений другого столбца."
   ]
  },
  {
   "cell_type": "markdown",
   "id": "c9733b3b",
   "metadata": {},
   "source": [
    "  "
   ]
  }
 ],
 "metadata": {
  "kernelspec": {
   "display_name": "Python 3 (ipykernel)",
   "language": "python",
   "name": "python3"
  },
  "language_info": {
   "codemirror_mode": {
    "name": "ipython",
    "version": 3
   },
   "file_extension": ".py",
   "mimetype": "text/x-python",
   "name": "python",
   "nbconvert_exporter": "python",
   "pygments_lexer": "ipython3",
   "version": "3.9.13"
  },
  "toc": {
   "base_numbering": 1,
   "nav_menu": {},
   "number_sections": false,
   "sideBar": true,
   "skip_h1_title": false,
   "title_cell": "СОДЕРЖАНИЕ",
   "title_sidebar": "СОДЕРЖАНИЕ",
   "toc_cell": true,
   "toc_position": {},
   "toc_section_display": false,
   "toc_window_display": false
  },
  "varInspector": {
   "cols": {
    "lenName": 16,
    "lenType": 16,
    "lenVar": 40
   },
   "kernels_config": {
    "python": {
     "delete_cmd_postfix": "",
     "delete_cmd_prefix": "del ",
     "library": "var_list.py",
     "varRefreshCmd": "print(var_dic_list())"
    },
    "r": {
     "delete_cmd_postfix": ") ",
     "delete_cmd_prefix": "rm(",
     "library": "var_list.r",
     "varRefreshCmd": "cat(var_dic_list()) "
    }
   },
   "types_to_exclude": [
    "module",
    "function",
    "builtin_function_or_method",
    "instance",
    "_Feature"
   ],
   "window_display": false
  }
 },
 "nbformat": 4,
 "nbformat_minor": 5
}
